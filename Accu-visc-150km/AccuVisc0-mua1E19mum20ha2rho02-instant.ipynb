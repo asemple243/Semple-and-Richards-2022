{
 "cells": [
  {
   "cell_type": "markdown",
   "metadata": {},
   "source": [
    "Slab Subduction\n",
    "======\n",
    "\n",
    "This two dimensional subduction model has a dense, high viscosity 3 layered plate overlying a lower viscosity mantle. The upper and lower plate layers have a visco-plastic rheology, yielding under large stresses. The middle, core layer has a viscous only rheology, maintaining strength during bending. The top 1000 km of the mantle is included, the upper & lower mantle is partitioned with a viscosity contrast of 100x at 600 km depth. The velocity boundary conditions on the domain are period side, free-slip top and no-slip bottom wall. \n",
    "\n",
    "**References**\n",
    "\n",
    "1. OzBench, M.; Regenauer-Lieb, K.; Stegman, D. R.; Morra, G.; Farrington, R.; Hale, A.; May, D. A.; Freeman, J.; Bourgouin, L.; Mühlhaus, H. & Moresi, L. A model comparison study of large-scale mantle-lithosphere dynamics driven by subduction. Physics of the Earth and Planetary Interiors, 2008, 171, 224-234. [OzBench, 2008](http://www.sciencedirect.com/science/article/pii/S0031920108002318)"
   ]
  },
  {
   "cell_type": "markdown",
   "metadata": {},
   "source": [
    "**What's in this one?**\n",
    "visc lith = 800\n",
    "visc asthen = 0.1 \n",
    "thickness asthen = 100m "
   ]
  },
  {
   "cell_type": "code",
   "execution_count": 1,
   "metadata": {},
   "outputs": [
    {
     "name": "stdout",
     "output_type": "stream",
     "text": [
      "loaded rc file /opt/venv/lib/python3.7/site-packages/UWGeodynamics/uwgeo-data/uwgeodynamicsrc\n"
     ]
    }
   ],
   "source": [
    "import underworld as uw\n",
    "import UWGeodynamics as GEO\n",
    "import math\n",
    "from underworld import function as fn\n",
    "import underworld.visualisation as vis\n",
    "import numpy as np\n",
    "import os\n",
    "\n",
    "rank = uw.mpi.rank"
   ]
  },
  {
   "cell_type": "code",
   "execution_count": 2,
   "metadata": {},
   "outputs": [],
   "source": [
    "#u = GEO.UnitRegistry DOESN'T WORK LIKE IT SHOULD"
   ]
  },
  {
   "cell_type": "code",
   "execution_count": 3,
   "metadata": {},
   "outputs": [],
   "source": [
    "refdepth = 2900. * 10**3 #* u.meter\n",
    "bodyforce = 3300. * 9.81 #* u.kilogram / u.meter**3 * 9.81 * u.meter / u.second**2\n",
    "refrho = 3300. #* u.kilogram / u.meter**3\n",
    "refvisc = 10. ** 21 #* u.pascal * u.second \n",
    "refg = 9.8 #*u.meters / u.second**2\n",
    "reft = refvisc / (refrho * refdepth) #* u.second\n",
    "refvelo = refdepth / reft #* u.meter / u.second "
   ]
  },
  {
   "cell_type": "code",
   "execution_count": 4,
   "metadata": {},
   "outputs": [],
   "source": [
    "outputPath = os.path.join(os.path.abspath(\".\"),\"output/AccuVisc0/\")\n",
    "\n",
    "if rank==0:\n",
    "    if not os.path.exists(outputPath):\n",
    "        os.makedirs(outputPath)\n",
    "uw.mpi.barrier()"
   ]
  },
  {
   "cell_type": "markdown",
   "metadata": {},
   "source": [
    "**Setup parameters**\n"
   ]
  },
  {
   "cell_type": "code",
   "execution_count": 5,
   "metadata": {},
   "outputs": [],
   "source": [
    "Res =  80*2 \n",
    "Xmax = 3500. * 10**3 / refdepth\n",
    "Xmin = -2000. * 10**3 / refdepth\n",
    "Ymax = 0. \n",
    "Ymin = -refdepth / refdepth\n",
    "\n",
    "boxL = Xmax - Xmin\n",
    "boxH = Ymax - Ymin\n",
    "\n",
    "xRes = int(Res * boxL)\n",
    "yRes = int(Res * 1.2 * boxH)"
   ]
  },
  {
   "cell_type": "markdown",
   "metadata": {},
   "source": [
    "**Create mesh and finite element variables**"
   ]
  },
  {
   "cell_type": "code",
   "execution_count": 6,
   "metadata": {},
   "outputs": [],
   "source": [
    "mesh = uw.mesh.FeMesh_Cartesian( elementType = (\"Q1/dQ0\"),\n",
    "                                 elementRes  = (xRes, yRes), \n",
    "                                 minCoord    = (Xmin, Ymin), \n",
    "                                 maxCoord    = (Xmax, Ymax),\n",
    "                                 periodic    = [False, False] ) \n",
    "\n",
    "\n",
    "velocityField   = mesh.add_variable(         nodeDofCount=2 )\n",
    "pressureField   = mesh.subMesh.add_variable( nodeDofCount=1 )"
   ]
  },
  {
   "cell_type": "markdown",
   "metadata": {
    "collapsed": true
   },
   "source": [
    "**Create a particle swarm**"
   ]
  },
  {
   "cell_type": "code",
   "execution_count": 7,
   "metadata": {},
   "outputs": [],
   "source": [
    "swarm = uw.swarm.Swarm( mesh=mesh, particleEscape=True )\n",
    "materialVariable   = swarm.add_variable( dataType=\"int\", count=1 )\n",
    "swarmLayout = uw.swarm.layouts.PerCellSpaceFillerLayout( swarm=swarm, particlesPerCell=25 )\n",
    "swarm.populate_using_layout( layout=swarmLayout )"
   ]
  },
  {
   "cell_type": "code",
   "execution_count": 8,
   "metadata": {},
   "outputs": [],
   "source": [
    "velocity = -(0.0 / 31536000.) / refvelo # convert meters/year to meters/second then nondimensionalize"
   ]
  },
  {
   "cell_type": "markdown",
   "metadata": {},
   "source": [
    "**Allocate materials to particles**"
   ]
  },
  {
   "cell_type": "code",
   "execution_count": 9,
   "metadata": {},
   "outputs": [],
   "source": [
    "angle = np.deg2rad(45)\n",
    "aangle = np.deg2rad(30-8)\n",
    "apex = 0.0\n",
    "slabh = 100 * 10**3 / refdepth\n",
    "\n",
    "#calcualte top and bottom of dipping slab against left wall\n",
    "dtop= 0. + np.tan(angle) * Xmin\n",
    "dbtm = dtop - slabh"
   ]
  },
  {
   "cell_type": "code",
   "execution_count": 10,
   "metadata": {},
   "outputs": [],
   "source": [
    "dipslab = np.array([(apex, 0.0),\n",
    "                     (apex, 0.0 - slabh),\n",
    "                     (Xmin , dbtm),\n",
    "                     (Xmin , dtop)])\n",
    "\n",
    "flatslab = np.array([(apex, 0.0),\n",
    "                    (Xmax, 0.),\n",
    "                    (Xmax, 0. - slabh),\n",
    "                    (apex, 0. - slabh)])\n"
   ]
  },
  {
   "cell_type": "code",
   "execution_count": 11,
   "metadata": {},
   "outputs": [],
   "source": [
    "#m=(1-dtop) / (apex - 0)\n",
    "m = dtop / Xmin"
   ]
  },
  {
   "cell_type": "code",
   "execution_count": 12,
   "metadata": {},
   "outputs": [],
   "source": [
    "asThick = 150. * 10**3 / refdepth\n",
    "asTop = 0.0 - slabh\n",
    "asbot = asTop - asThick\n",
    "asdip = asbot - 400. * 10**3 / refdepth\n",
    "dasTop = asbot-np.tan(aangle) * 500 * 10**3 / refdepth + asThick\n",
    "dasbot = asbot-np.tan(aangle) * 500 * 10**3 / refdepth\n",
    "daspoint = asdip / m"
   ]
  },
  {
   "cell_type": "code",
   "execution_count": 13,
   "metadata": {},
   "outputs": [],
   "source": [
    "# initialise the 'materialVariable' data to represent two different materials. \n",
    "MantleIndex      = 0\n",
    "slabIndex        = 1\n",
    "asthenIndex      = 2\n",
    "\n",
    "# Initial material layout has a flat lying slab with at 15\\degree perturbation\n",
    "\n",
    "fslabUpShape = np.array([(Xmax-100. * 10**3 / refdepth, Ymax),(Xmax, Ymax),(Xmax, Ymax-slabh),(Xmax-100. * 10**3 / refdepth, Ymax-slabh)])\n",
    "asthenUpShape = np.array([(Xmax-100. * 10**3 / refdepth, asTop),(Xmax, asTop),(Xmax, asbot),(Xmax-100. * 10**3 / refdepth, asbot)])\n",
    "mantUpShape = np.array([(Xmax-100. * 10**3 / refdepth, asbot),(Xmax, asbot),(Xmax, Ymin),(Xmax-100. * 10**3 / refdepth, Ymin)])\n",
    "asthenUp    = fn.shape.Polygon( asthenUpShape )\n",
    "fslabUp = fn.shape.Polygon( fslabUpShape )\n",
    "mantUp = fn.shape.Polygon( mantUpShape )\n",
    "\n",
    "asthenShape    = np.array([ (apex, asTop), (Xmax, asTop), (Xmax, asbot), (apex, asbot), (daspoint,asdip)]) #(apex-0.5,dasbot), (apex-0.5,dasTop)])\n",
    "\n",
    "fslab  = fn.shape.Polygon( flatslab )\n",
    "dslab = fn.shape.Polygon( dipslab )\n",
    "\n",
    "asthen    = fn.shape.Polygon( asthenShape )\n",
    "\n",
    "\n",
    "# initialise everying to be upper mantle material\n",
    "materialVariable.data[:] = MantleIndex\n",
    "\n",
    "# change matieral index if the particle is not upper mantle\n",
    "for index in range( len(swarm.particleCoordinates.data) ):\n",
    "    coord = swarm.particleCoordinates.data[index][:]\n",
    "    if fslab.evaluate(tuple(coord)) or dslab.evaluate(tuple(coord)):\n",
    "            materialVariable.data[index] = slabIndex\n",
    "    elif asthen.evaluate(tuple(coord)):\n",
    "            materialVariable.data[index] = asthenIndex"
   ]
  },
  {
   "cell_type": "code",
   "execution_count": 14,
   "metadata": {
    "scrolled": true
   },
   "outputs": [
    {
     "data": {
      "text/html": [
       "<img src='data:image/png;base64,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'>"
      ],
      "text/plain": [
       "<IPython.core.display.HTML object>"
      ]
     },
     "metadata": {},
     "output_type": "display_data"
    }
   ],
   "source": [
    "store = vis.Store('output/AccuVisc1')\n",
    "figParticle = vis.Figure( store, figsize=(960,300), name=\"Particles\" )\n",
    "figParticle.append( vis.objects.Points(swarm, materialVariable, pointSize=2, colours='white blue red') )\n",
    "figParticle.show()"
   ]
  },
  {
   "cell_type": "markdown",
   "metadata": {},
   "source": [
    "**Plot the initial positions for the particle swarm and colour by material type**\n",
    "\n",
    "We are using a vis store object to keep all our figures together and allow them to be revisualised later so create this here and pass it to all the figures created later. We'll also name this figure to make it easy to find later when revisualising."
   ]
  },
  {
   "cell_type": "markdown",
   "metadata": {},
   "source": [
    "Set up material parameters and functions\n",
    "----\n",
    "\n",
    "Here the functions for density, viscosity, gravity and buoyancy are set. "
   ]
  },
  {
   "cell_type": "markdown",
   "metadata": {},
   "source": [
    "**Viscosity function**\n",
    "\n",
    "The slab is simple and yields. the upper and lower mantle have the same viscosity for now (future iterations will have different viscosity laws for each, powerlaw in upper and newtonian in lower). The thin asthenosphere analog has a very low viscosity that will be varied for testing. "
   ]
  },
  {
   "cell_type": "code",
   "execution_count": 15,
   "metadata": {},
   "outputs": [],
   "source": [
    "MantleViscosity      =  10. ** 20 / refvisc\n",
    "slabViscosity        =  10. ** 23 / refvisc\n",
    "asthenViscosity      =  10. ** 19 / refvisc\n",
    "\n",
    "# The yeilding of the upper slab is dependent on the strain rate.\n",
    "strainRate_2ndInvariant = fn.tensor.second_invariant( \n",
    "                            fn.tensor.symmetric( \n",
    "                            velocityField.fn_gradient ))\n",
    "cohesion = 0.06\n",
    "vonMises = 0.5 * cohesion / (strainRate_2ndInvariant+1.0e-18)\n",
    "\n",
    "# The upper slab viscosity is the minimum of the 'slabViscosity' or the 'vonMises' \n",
    "slabYieldvisc = fn.exception.SafeMaths( fn.misc.min(vonMises, slabViscosity) )\n",
    "\n",
    "# Viscosity function for the materials \n",
    "viscosityMap = { MantleIndex      : MantleViscosity, \n",
    "                 slabIndex        : slabViscosity,\n",
    "                 asthenIndex      : asthenViscosity}\n",
    "viscosityMapFn = fn.branching.map( fn_key = materialVariable, mapping = viscosityMap )"
   ]
  },
  {
   "cell_type": "markdown",
   "metadata": {},
   "source": [
    "Note: ``SafeMaths`` in the above cell refers to a function which checks the value passed inside for any infinite or other not-a-number type errors."
   ]
  },
  {
   "cell_type": "markdown",
   "metadata": {},
   "source": [
    "**Set the density function, vertical unit vector and Buoyancy Force function**\n"
   ]
  },
  {
   "cell_type": "code",
   "execution_count": 16,
   "metadata": {},
   "outputs": [],
   "source": [
    "#density is same as slab\n",
    "\n",
    "mantleDensity = 3300 / refrho\n",
    "slabDensity   = 3500 / refrho\n",
    "asthenDensity = (1 - .02) * 3300 / refrho   #2% density decrease\n",
    "airDensity    = 0.000000001\n",
    "\n",
    "densityMap = { MantleIndex : mantleDensity, \n",
    "               slabIndex    : slabDensity,\n",
    "               asthenIndex      : asthenDensity}\n",
    "densityFn = fn.branching.map( fn_key = materialVariable, mapping = densityMap )\n",
    "\n",
    "# Define our vertical unit vector using a python tuple\n",
    "z_hat = ( 0.0, 1.0 )\n",
    "\n",
    "# now create a buoyancy force vector\n",
    "buoyancyFn = -9.8 / refg * densityFn * z_hat"
   ]
  },
  {
   "cell_type": "markdown",
   "metadata": {},
   "source": [
    "**Set initial and boundary conditions**"
   ]
  },
  {
   "cell_type": "code",
   "execution_count": 17,
   "metadata": {},
   "outputs": [],
   "source": [
    "# set initial conditions (and boundary values)\n",
    "velocityField.data[:] = [0.,0.]\n",
    "pressureField.data[:] = 0.\n",
    "\n",
    "#set up the moving wall condition"
   ]
  },
  {
   "cell_type": "markdown",
   "metadata": {},
   "source": [
    "## setup slab velocities"
   ]
  },
  {
   "cell_type": "code",
   "execution_count": 18,
   "metadata": {},
   "outputs": [],
   "source": [
    "#calculate the x and y velocities\n",
    "us=np.cos(angle) * velocity"
   ]
  },
  {
   "cell_type": "code",
   "execution_count": 19,
   "metadata": {},
   "outputs": [],
   "source": [
    "vs=np.sin(angle) * velocity"
   ]
  },
  {
   "cell_type": "code",
   "execution_count": 20,
   "metadata": {},
   "outputs": [],
   "source": [
    "#grab the flat part of the slab\n",
    "slab_handcrafted = mesh.specialSets['Empty']\n",
    "for index,coord in enumerate(mesh.data):\n",
    "    # grab only top right wall indices\n",
    "    if coord[0] >= apex and 0. >= coord[1] >= 0. - slabh :\n",
    "        slab_handcrafted.add(index)\n",
    "        \n",
    "#apply the velocity condition\n",
    "velocityField.data[slab_handcrafted]=(velocity, 0.)\n"
   ]
  },
  {
   "cell_type": "code",
   "execution_count": 21,
   "metadata": {},
   "outputs": [],
   "source": [
    "#grab the sinking part of the slab\n",
    "sinkingslab_handcrafted = mesh.specialSets['Empty']\n",
    "for index,coord in enumerate(mesh.data):\n",
    "    # grab only top right wall indices\n",
    "    if coord [0] < apex and m* coord[0] + 0.0 - slabh < coord[1] < m * coord[0] + 0.0 :\n",
    "        sinkingslab_handcrafted.add(index)\n",
    "        \n",
    "#apply the velocity condition       coord[1] > dbtm and\n",
    "velocityField.data[sinkingslab_handcrafted]=(us, vs)"
   ]
  },
  {
   "cell_type": "code",
   "execution_count": 22,
   "metadata": {},
   "outputs": [],
   "source": [
    "#grab the left wall below the slab\n",
    "belowslabL_handcrafted = mesh.specialSets['Empty']\n",
    "for index,coord in enumerate(mesh.data):\n",
    "    # grab only below the slab\n",
    "    if coord[1] < dbtm and coord [0] < Xmin + 0.01 :\n",
    "        belowslabL_handcrafted.add(index)\n",
    "        \n",
    "#apply the velocity condition\n",
    "velocityField.data[belowslabL_handcrafted]=(0., 0.)"
   ]
  },
  {
   "cell_type": "code",
   "execution_count": 23,
   "metadata": {},
   "outputs": [],
   "source": [
    "#grab the left wall below the slab\n",
    "belowslabR_handcrafted = mesh.specialSets['Empty']\n",
    "for index,coord in enumerate(mesh.data):\n",
    "    # grab only below the slab\n",
    "    if coord[1] < 0 - asbot and coord [0] > Xmax - 0.01 :\n",
    "        belowslabR_handcrafted.add(index)\n",
    "        \n",
    "#apply the velocity condition\n",
    "velocityField.data[belowslabR_handcrafted]=(0., 0.)"
   ]
  },
  {
   "cell_type": "code",
   "execution_count": 24,
   "metadata": {},
   "outputs": [],
   "source": [
    "#grab the lith depths of the right wall\n",
    "movingrightwall_handcrafted = mesh.specialSets['Empty']\n",
    "for index,coord in enumerate(mesh.data):\n",
    "    # grab only top right wall indices\n",
    "    if coord[0]> Xmax - .01 and coord[1] > 0.0 - slabh:\n",
    "        movingrightwall_handcrafted.add(index)\n",
    "        \n",
    "velocityField.data[movingrightwall_handcrafted]=(velocity, 0.)"
   ]
  },
  {
   "cell_type": "code",
   "execution_count": 25,
   "metadata": {},
   "outputs": [],
   "source": [
    "c = asThick\n",
    "a = dbtm\n",
    "b = a - c\n",
    "\n",
    "\n",
    "#grab the lith depths of the right wall\n",
    "tinyLeft_handcrafted = mesh.specialSets['Empty']\n",
    "for index,coord in enumerate(mesh.data):\n",
    "    # grab only top right wall indices\n",
    "    if coord[0] < Xmin + .01 and a >= coord[1] >= b:\n",
    "        tinyLeft_handcrafted.add(index)\n",
    "        velocityField.data[index]=(us*((c-(a-coord[1]))/c), vs*((c-(a-coord[1]))/c))\n",
    "        \n",
    "#velocityField.data[tinyLeft_handcrafted]=(velocity, 0.)"
   ]
  },
  {
   "cell_type": "code",
   "execution_count": 26,
   "metadata": {},
   "outputs": [],
   "source": [
    "c = asThick\n",
    "a = dtop + c\n",
    "b = dtop\n",
    "\n",
    "\n",
    "#grab the lith depths of the right wall\n",
    "tinyLefttop_handcrafted = mesh.specialSets['Empty']\n",
    "for index,coord in enumerate(mesh.data):\n",
    "    # grab only top right wall indices\n",
    "    if coord[0] < Xmin + .01 and a >= coord[1] >= b:\n",
    "        tinyLefttop_handcrafted.add(index)\n",
    "        velocityField.data[index]=(us*((c-(coord[1]-b))/c), vs*((c-(coord[1]-b))/c))\n",
    "        \n",
    "        \n",
    "restLefttop_handcrafted = mesh.specialSets['Empty']\n",
    "for index,coord in enumerate(mesh.data):\n",
    "    # grab only top right wall indices\n",
    "    if coord[0] < Xmin + .01 and coord[1] > a:\n",
    "        restLefttop_handcrafted.add(index)\n",
    "\n",
    "velocityField.data[restLefttop_handcrafted]=(0., 0.)"
   ]
  },
  {
   "cell_type": "code",
   "execution_count": 27,
   "metadata": {},
   "outputs": [],
   "source": [
    "c = asThick\n",
    "a = 0.-slabh\n",
    "b = a-c\n",
    "\n",
    "#grab the lith depths of the right wall\n",
    "tinyRight_handcrafted = mesh.specialSets['Empty']\n",
    "for index,coord in enumerate(mesh.data):\n",
    "    # grab only top right wall indices\n",
    "    if coord[0] > Xmax - .01 and a >= coord[1] >= b:\n",
    "        tinyRight_handcrafted.add(index)\n",
    "        velocityField.data[index]=(velocity*((c-(a-coord[1]))/c), 0.)\n",
    "        \n",
    "#velocityField.data[tinyLeft_handcrafted]=(velocity, 0.)"
   ]
  },
  {
   "cell_type": "code",
   "execution_count": 28,
   "metadata": {},
   "outputs": [],
   "source": [
    "#movingleftwall_handcrafted = mesh.specialSets['Empty']\n",
    "#for index,coord in enumerate(mesh.data):\n",
    "#    # grab only left wall indices\n",
    "#    if coord[0]<0.01 and dtop>coord[1]>dbtm:\n",
    "#        movingleftwall_handcrafted.add(index)\n",
    "        \n",
    "#velocityField.data[movingleftwall_handcrafted]=(us,vs)"
   ]
  },
  {
   "cell_type": "code",
   "execution_count": 29,
   "metadata": {},
   "outputs": [],
   "source": [
    "edgeWalls = mesh.specialSets['AllWalls_VertexSet']\n",
    "topWalls = mesh.specialSets['Top_VertexSet']\n",
    "btmWalls = mesh.specialSets['Bottom_VertexSet']\n",
    "\n",
    "allWalls = edgeWalls + slab_handcrafted + sinkingslab_handcrafted\n",
    "\n",
    "someWallsU = slab_handcrafted + sinkingslab_handcrafted + topWalls + belowslabL_handcrafted + belowslabR_handcrafted + tinyRight_handcrafted + tinyLeft_handcrafted +tinyLefttop_handcrafted + restLefttop_handcrafted\n",
    "\n",
    "someWallsV = btmWalls + slab_handcrafted + sinkingslab_handcrafted + topWalls + tinyRight_handcrafted + tinyLeft_handcrafted +tinyLefttop_handcrafted\n",
    "\n",
    "\n",
    "condition = uw.conditions.DirichletCondition(velocityField, (someWallsU,someWallsV) )"
   ]
  },
  {
   "cell_type": "code",
   "execution_count": 30,
   "metadata": {
    "scrolled": false
   },
   "outputs": [
    {
     "data": {
      "text/html": [
       "<img src='data:image/png;base64,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'>"
      ],
      "text/plain": [
       "<IPython.core.display.HTML object>"
      ]
     },
     "metadata": {},
     "output_type": "display_data"
    }
   ],
   "source": [
    "figVelocityMag = vis.Figure(figsize=(960,300))\n",
    "figVelocityMag.append( vis.objects.Surface(mesh, fn.math.sqrt(fn.math.dot(velocityField,velocityField))) )\n",
    "figVelocityMag.VectorArrows(mesh, velocityField)\n",
    "figVelocityMag.show()"
   ]
  },
  {
   "cell_type": "markdown",
   "metadata": {},
   "source": [
    "**System Setup**"
   ]
  },
  {
   "cell_type": "code",
   "execution_count": 31,
   "metadata": {},
   "outputs": [],
   "source": [
    "# Initial linear slab viscosity setup\n",
    "stokes = uw.systems.Stokes(    velocityField = velocityField, \n",
    "                               pressureField = pressureField,\n",
    "                               conditions    = condition,\n",
    "                               fn_viscosity  = viscosityMapFn, \n",
    "                               fn_bodyforce  = buoyancyFn )\n",
    "# Create solver & solve\n",
    "solver = uw.systems.Solver(stokes)"
   ]
  },
  {
   "cell_type": "code",
   "execution_count": 32,
   "metadata": {},
   "outputs": [],
   "source": [
    "# use \"mumps\" direct solve, best for 2D models.\n",
    "solver.set_inner_method(\"mumps\")"
   ]
  },
  {
   "cell_type": "code",
   "execution_count": 33,
   "metadata": {},
   "outputs": [],
   "source": [
    "advector = uw.systems.SwarmAdvector( swarm=swarm, velocityField=velocityField, order=2 )"
   ]
  },
  {
   "cell_type": "markdown",
   "metadata": {},
   "source": [
    "**Analysis tools**"
   ]
  },
  {
   "cell_type": "code",
   "execution_count": 34,
   "metadata": {},
   "outputs": [],
   "source": [
    "#Plot of Velocity Magnitude\n",
    "figVelocityMag = vis.Figure(store, figsize=(960,300))\n",
    "figVelocityMag.append( vis.objects.Surface(mesh, fn.math.sqrt(fn.math.dot(velocityField,velocityField))) )\n",
    "\n",
    "#Plot of Strain Rate, 2nd Invariant\n",
    "figStrainRate = vis.Figure(store, figsize=(960,300))\n",
    "figStrainRate.append( vis.objects.Surface(mesh, strainRate_2ndInvariant, logScale=True) )\n",
    "\n",
    "#Plot of particles viscosity\n",
    "figViscosity = vis.Figure(store, figsize=(960,300))\n",
    "figViscosity.append( vis.objects.Points(swarm, viscosityMapFn, pointSize=2) )\n",
    "\n",
    "#Plot of particles stress invariant\n",
    "figStress = vis.Figure( store, figsize=(960,300) )\n",
    "figStress.append( vis.objects.Points(swarm, 2.0*viscosityMapFn*strainRate_2ndInvariant, pointSize=2, logScale=True) )"
   ]
  },
  {
   "cell_type": "markdown",
   "metadata": {},
   "source": [
    "Main simulation loop\n",
    "=======\n",
    "\n",
    "The main time stepping loop begins here. Inside the time loop the velocity field is solved for via the Stokes system solver and then the swarm is advected using the advector integrator. Basic statistics are output to screen each timestep."
   ]
  },
  {
   "cell_type": "code",
   "execution_count": 35,
   "metadata": {},
   "outputs": [],
   "source": [
    "time = 0.  # Initial time\n",
    "step = 0   # Initial timestep\n",
    "maxSteps = 3   # Maximum timesteps (201 is recommended)\n",
    "steps_output = 1   # output every 10 timesteps"
   ]
  },
  {
   "cell_type": "code",
   "execution_count": 36,
   "metadata": {},
   "outputs": [],
   "source": [
    "swarm_popcontrol = uw.swarm.PopulationControl(\n",
    "    swarm,\n",
    "    deleteThreshold=0.002,\n",
    "    splitThreshold=0.20,\n",
    "    maxDeletions=0,\n",
    "    maxSplits=80,\n",
    "    aggressive=True,\n",
    "    aggressiveThreshold=0.98,\n",
    "    particlesPerCell=20,\n",
    ")    "
   ]
  },
  {
   "cell_type": "code",
   "execution_count": 37,
   "metadata": {},
   "outputs": [],
   "source": [
    "# define an update function\n",
    "def update():\n",
    "    # Retrieve the maximum possible timestep for the advection system.\n",
    "    dt = advector.get_max_dt()\n",
    "    # Advect using this timestep size.\n",
    "    advector.integrate(dt)\n",
    "    \n",
    "    swarm_popcontrol.repopulate()\n",
    "    \n",
    "    for index in range( len(swarm.particleCoordinates.data) ):\n",
    "        coord = swarm.particleCoordinates.data[index][:]\n",
    "        if fslabUp.evaluate(tuple(coord)):\n",
    "            materialVariable.data[index] = slabIndex\n",
    "        if asthenUp.evaluate(tuple(coord)):\n",
    "            materialVariable.data[index] = asthenIndex\n",
    "        if mantUp.evaluate(tuple(coord)):\n",
    "            materialVariable.data[index] = MantleIndex\n",
    "\n",
    "   \n",
    "\n",
    "    return time+dt, step+1"
   ]
  },
  {
   "cell_type": "code",
   "execution_count": 38,
   "metadata": {
    "scrolled": false
   },
   "outputs": [
    {
     "name": "stdout",
     "output_type": "stream",
     "text": [
      "step =      0; time = 0.000e+00; Vrms = 4.947e-06\n",
      "step =      1; time = 3.404e+01; Vrms = 6.029e-06\n",
      "step =      2; time = 7.283e+01; Vrms = 4.623e-06\n"
     ]
    }
   ],
   "source": [
    "while step < maxSteps:\n",
    "    # Solve non linear Stokes system\n",
    "    solver.solve(nonLinearIterate=True)\n",
    "    # output figure to file at intervals = steps_output\n",
    "    if step % steps_output == 0 or step == maxSteps-1:\n",
    "        #Important to set the timestep for the store object here or will overwrite previous step\n",
    "        store.step = step\n",
    "        figParticle.save(               outputPath + \"particle\"        + str(step).zfill(4))\n",
    "        figVelocityMag.save(            outputPath + \"velocityMag\"     + str(step).zfill(4))\n",
    "        #figViscosity.save(              outputPath + \"viscosity\"       + str(step).zfill(4))\n",
    "        \n",
    "       \n",
    "        \n",
    "        vrms = stokes.velocity_rms()\n",
    "        if rank==0: print('step = {0:6d}; time = {1:.3e}; Vrms = {2:.3e}'.format(step,time,vrms))\n",
    "\n",
    "    # update\n",
    "    time,step = update()"
   ]
  },
  {
   "cell_type": "code",
   "execution_count": 39,
   "metadata": {},
   "outputs": [
    {
     "data": {
      "text/plain": [
       "<underworld.utils._utils.SavedFileData at 0x7fb3d26389b0>"
      ]
     },
     "execution_count": 39,
     "metadata": {},
     "output_type": "execute_result"
    }
   ],
   "source": [
    "swarm.save(                     outputPath + \"swarm\"           + str(step).zfill(4) + \".h5\")\n",
    "velocityField.save(             outputPath + \"mesh.velo\"       + str(step).zfill(4) + \".h5\")\n",
    "swarm.particleCoordinates.save( outputPath + \"swarm.particles\" + str(step).zfill(4) + \".h5\")"
   ]
  },
  {
   "cell_type": "code",
   "execution_count": 40,
   "metadata": {},
   "outputs": [
    {
     "data": {
      "text/html": [
       "<img src='data:image/png;base64,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'>"
      ],
      "text/plain": [
       "<IPython.core.display.HTML object>"
      ]
     },
     "metadata": {},
     "output_type": "display_data"
    }
   ],
   "source": [
    "store = vis.Store('output/AccuVisc1')\n",
    "figVelocityMag = vis.Figure(figsize=(960,300), name=\"VeloVectors\" )\n",
    "figVelocityMag.append( vis.objects.Surface(mesh, fn.math.sqrt(fn.math.dot(velocityField,velocityField))) )\n",
    "figVelocityMag.VectorArrows(mesh, velocityField)\n",
    "figVelocityMag.show()"
   ]
  },
  {
   "cell_type": "code",
   "execution_count": 41,
   "metadata": {},
   "outputs": [
    {
     "data": {
      "text/html": [
       "<img src='data:image/png;base64,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'>"
      ],
      "text/plain": [
       "<IPython.core.display.HTML object>"
      ]
     },
     "metadata": {},
     "output_type": "display_data"
    }
   ],
   "source": [
    "store = vis.Store('output/AccuVisc1')\n",
    "figParticle = vis.Figure( store, figsize=(960,300), name=\"Particles\" )\n",
    "figParticle.append( vis.objects.Points(swarm, materialVariable, pointSize=2, colours='green purple blue red') )\n",
    "figParticle.show()"
   ]
  },
  {
   "cell_type": "markdown",
   "metadata": {},
   "source": [
    "Post simulation analysis\n",
    "-----\n",
    "\n",
    "Plot all figures for the resulting system using LavaVu to load the saved visualisation.\n",
    "This allows us to open a previously saved visualisation database, just pass the same name used when creating the Store object"
   ]
  },
  {
   "cell_type": "code",
   "execution_count": 42,
   "metadata": {},
   "outputs": [],
   "source": [
    "import underworld.visualisation as vis\n",
    "viewer = vis.Viewer('output/AccuVisc1')\n",
    "viewer.step = 800"
   ]
  },
  {
   "cell_type": "markdown",
   "metadata": {},
   "source": [
    "Here we print some information about the loaded visualisation which shows what data is available\n",
    "(as we only gave our first figure a name \"Particles\" the others have been automatically named)"
   ]
  },
  {
   "cell_type": "code",
   "execution_count": 43,
   "metadata": {},
   "outputs": [
    {
     "name": "stdout",
     "output_type": "stream",
     "text": [
      "Saved database 'output/AccuVisc1.gldb'\n",
      " - 1 figures : dict_keys(['Particles'])\n",
      " - 3 timesteps (final = 2) : [0, 1, 2]\n"
     ]
    }
   ],
   "source": [
    "figs = viewer.figures\n",
    "steps = viewer.steps\n",
    "if rank==0:\n",
    "    print(\"Saved database '%s'\" % (viewer.filename))\n",
    "    print(\" - %d figures : %s\" % (len(figs), str(figs.keys())))\n",
    "    print(\" - %d timesteps (final = %d) : %s\" % (len(steps), steps[-1], steps))"
   ]
  },
  {
   "cell_type": "markdown",
   "metadata": {},
   "source": [
    "We just want to look at the final state of the simulation, so set the timestep to the last one in the list and loop through all the figures, plotting each one"
   ]
  },
  {
   "cell_type": "code",
   "execution_count": 44,
   "metadata": {},
   "outputs": [],
   "source": [
    "#grab the mantle below the slab only\n",
    "ugh = mesh.specialSets['Empty']\n",
    "for index,coord in enumerate(mesh.data):\n",
    "    if coord [0] < apex and coord[1] < (m* coord[0] + 0.0 - slabh) - 0.05 and coord[1] > -0.25:\n",
    "        ugh.add(index)\n",
    "        \n",
    "        \n",
    "gah = mesh.specialSets['Empty']\n",
    "for index,coord in enumerate(mesh.data):\n",
    "    if coord [0] >= apex and coord[1] < 0.0 - slabh and coord[1] > -0.25:\n",
    "        gah.add(index)\n",
    "\n",
    "\n"
   ]
  },
  {
   "cell_type": "code",
   "execution_count": 45,
   "metadata": {},
   "outputs": [
    {
     "data": {
      "text/html": [
       "<img src='data:image/png;base64,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'>"
      ],
      "text/plain": [
       "<IPython.core.display.HTML object>"
      ]
     },
     "metadata": {},
     "output_type": "display_data"
    }
   ],
   "source": [
    "blah = mesh.add_variable(         nodeDofCount=2 )\n",
    "blah.data[:] = [0.,0.]\n",
    "blah.data[ugh] = velocityField.data[ugh]\n",
    "blah.data[gah] = velocityField.data[gah]\n",
    "store = vis.Store('output/AccuVisc1')\n",
    "figVelocityMag = vis.Figure(figsize=(960,300), name=\"VeloVectors\" )\n",
    "figVelocityMag.append( vis.objects.Surface(mesh, fn.math.sqrt(fn.math.dot(velocityField,velocityField))) )\n",
    "figVelocityMag.VectorArrows(mesh, blah)\n",
    "figVelocityMag.show()"
   ]
  },
  {
   "cell_type": "code",
   "execution_count": 46,
   "metadata": {},
   "outputs": [
    {
     "data": {
      "text/html": [
       "<img src='data:image/png;base64,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'>"
      ],
      "text/plain": [
       "<IPython.core.display.HTML object>"
      ]
     },
     "metadata": {},
     "output_type": "display_data"
    }
   ],
   "source": [
    "figParticle = vis.Figure( store, figsize=(960,300), name=\"Particles\" )\n",
    "figParticle.append( vis.objects.Points(swarm, materialVariable, pointSize=2, colours='green purple blue red') )\n",
    "figParticle.show()"
   ]
  },
  {
   "cell_type": "code",
   "execution_count": null,
   "metadata": {},
   "outputs": [],
   "source": []
  }
 ],
 "metadata": {
  "kernelspec": {
   "display_name": "Python 3",
   "language": "python",
   "name": "python3"
  },
  "language_info": {
   "codemirror_mode": {
    "name": "ipython",
    "version": 3
   },
   "file_extension": ".py",
   "mimetype": "text/x-python",
   "name": "python",
   "nbconvert_exporter": "python",
   "pygments_lexer": "ipython3",
   "version": "3.7.3"
  }
 },
 "nbformat": 4,
 "nbformat_minor": 1
}
