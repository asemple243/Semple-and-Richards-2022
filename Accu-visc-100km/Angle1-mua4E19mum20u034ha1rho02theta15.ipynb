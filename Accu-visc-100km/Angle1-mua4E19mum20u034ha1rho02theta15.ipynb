{
 "cells": [
  {
   "cell_type": "markdown",
   "metadata": {},
   "source": [
    "Slab Subduction\n",
    "======\n",
    "\n",
    "This two dimensional subduction model has a dense, high viscosity 3 layered plate overlying a lower viscosity mantle. The upper and lower plate layers have a visco-plastic rheology, yielding under large stresses. The middle, core layer has a viscous only rheology, maintaining strength during bending. The top 1000 km of the mantle is included, the upper & lower mantle is partitioned with a viscosity contrast of 100x at 600 km depth. The velocity boundary conditions on the domain are period side, free-slip top and no-slip bottom wall. \n",
    "\n",
    "**References**\n",
    "\n",
    "1. OzBench, M.; Regenauer-Lieb, K.; Stegman, D. R.; Morra, G.; Farrington, R.; Hale, A.; May, D. A.; Freeman, J.; Bourgouin, L.; Mühlhaus, H. & Moresi, L. A model comparison study of large-scale mantle-lithosphere dynamics driven by subduction. Physics of the Earth and Planetary Interiors, 2008, 171, 224-234. [OzBench, 2008](http://www.sciencedirect.com/science/article/pii/S0031920108002318)"
   ]
  },
  {
   "cell_type": "markdown",
   "metadata": {},
   "source": [
    "**What's in this one?**\n",
    "visc lith = 800\n",
    "visc asthen = 0.1 \n",
    "thickness asthen = 100m "
   ]
  },
  {
   "cell_type": "code",
   "execution_count": 1,
   "metadata": {},
   "outputs": [
    {
     "name": "stdout",
     "output_type": "stream",
     "text": [
      "loaded rc file /opt/venv/lib/python3.7/site-packages/UWGeodynamics/uwgeo-data/uwgeodynamicsrc\n"
     ]
    }
   ],
   "source": [
    "import underworld as uw\n",
    "import UWGeodynamics as GEO\n",
    "import math\n",
    "from underworld import function as fn\n",
    "import underworld.visualisation as vis\n",
    "import numpy as np\n",
    "import os\n",
    "\n",
    "rank = uw.mpi.rank"
   ]
  },
  {
   "cell_type": "code",
   "execution_count": 2,
   "metadata": {},
   "outputs": [],
   "source": [
    "#u = GEO.UnitRegistry DOESN'T WORK LIKE IT SHOULD"
   ]
  },
  {
   "cell_type": "code",
   "execution_count": 3,
   "metadata": {},
   "outputs": [],
   "source": [
    "refdepth = 2900. * 10**3 #* u.meter\n",
    "bodyforce = 3300. * 9.81 #* u.kilogram / u.meter**3 * 9.81 * u.meter / u.second**2\n",
    "refrho = 3300. #* u.kilogram / u.meter**3\n",
    "refvisc = 10. ** 21 #* u.pascal * u.second \n",
    "refg = 9.8 #*u.meters / u.second**2\n",
    "reft = refvisc / (refrho * refdepth) #* u.second\n",
    "refvelo = refdepth / reft #* u.meter / u.second "
   ]
  },
  {
   "cell_type": "code",
   "execution_count": 4,
   "metadata": {},
   "outputs": [],
   "source": [
    "outputPath = os.path.join(os.path.abspath(\".\"),\"output/Angle1/\")                                    ##############1###\n",
    "\n",
    "if rank==0:\n",
    "    if not os.path.exists(outputPath):\n",
    "        os.makedirs(outputPath)\n",
    "uw.mpi.barrier()"
   ]
  },
  {
   "cell_type": "markdown",
   "metadata": {},
   "source": [
    "**Setup parameters**\n"
   ]
  },
  {
   "cell_type": "code",
   "execution_count": 5,
   "metadata": {},
   "outputs": [],
   "source": [
    "Res =  80*2 \n",
    "Xmax = 3500. * 10**3 / refdepth\n",
    "Xmin = -2000. * 10**3 / refdepth\n",
    "Ymax = 0. \n",
    "Ymin = -refdepth / refdepth\n",
    "\n",
    "boxL = Xmax - Xmin\n",
    "boxH = Ymax - Ymin\n",
    "\n",
    "xRes = int(Res * boxL)\n",
    "yRes = int(Res * 1.5 * boxH)"
   ]
  },
  {
   "cell_type": "markdown",
   "metadata": {},
   "source": [
    "**Create mesh and finite element variables**"
   ]
  },
  {
   "cell_type": "code",
   "execution_count": 6,
   "metadata": {},
   "outputs": [],
   "source": [
    "mesh = uw.mesh.FeMesh_Cartesian( elementType = (\"Q1/dQ0\"),\n",
    "                                 elementRes  = (xRes, yRes), \n",
    "                                 minCoord    = (Xmin, Ymin), \n",
    "                                 maxCoord    = (Xmax, Ymax),\n",
    "                                 periodic    = [False, False] ) \n",
    "\n",
    "\n",
    "velocityField   = mesh.add_variable(         nodeDofCount=2 )\n",
    "pressureField   = mesh.subMesh.add_variable( nodeDofCount=1 )"
   ]
  },
  {
   "cell_type": "markdown",
   "metadata": {
    "collapsed": true
   },
   "source": [
    "**Create a particle swarm**"
   ]
  },
  {
   "cell_type": "code",
   "execution_count": 7,
   "metadata": {},
   "outputs": [],
   "source": [
    "swarm = uw.swarm.Swarm( mesh=mesh, particleEscape=True )\n",
    "materialVariable   = swarm.add_variable( dataType=\"int\", count=1 )\n",
    "swarmLayout = uw.swarm.layouts.PerCellSpaceFillerLayout( swarm=swarm, particlesPerCell=25 )\n",
    "swarm.populate_using_layout( layout=swarmLayout )"
   ]
  },
  {
   "cell_type": "code",
   "execution_count": 8,
   "metadata": {},
   "outputs": [],
   "source": [
    "velocity = -(0.034 / 31536000.) / refvelo # convert meters/year to meters/second then nondimensionalize"
   ]
  },
  {
   "cell_type": "markdown",
   "metadata": {},
   "source": [
    "**Allocate materials to particles**"
   ]
  },
  {
   "cell_type": "code",
   "execution_count": 9,
   "metadata": {},
   "outputs": [],
   "source": [
    "angle = np.deg2rad(15)\n",
    "aangle = np.deg2rad(15-14)\n",
    "apex = 0.0\n",
    "slabh = 100 * 10**3 / refdepth\n",
    "\n",
    "#calcualte top and bottom of dipping slab against left wall\n",
    "dtop= 0. + np.tan(angle) * Xmin\n",
    "dbtm = dtop - slabh"
   ]
  },
  {
   "cell_type": "code",
   "execution_count": 10,
   "metadata": {},
   "outputs": [],
   "source": [
    "dipslab = np.array([(apex, 0.0),\n",
    "                     (apex, 0.0 - slabh),\n",
    "                     (Xmin , dbtm),\n",
    "                     (Xmin , dtop)])\n",
    "\n",
    "flatslab = np.array([(apex, 0.0),\n",
    "                    (Xmax, 0.),\n",
    "                    (Xmax, 0. - slabh),\n",
    "                    (apex, 0. - slabh)])\n"
   ]
  },
  {
   "cell_type": "code",
   "execution_count": 11,
   "metadata": {},
   "outputs": [],
   "source": [
    "#m=(1-dtop) / (apex - 0)\n",
    "m = dtop / Xmin"
   ]
  },
  {
   "cell_type": "code",
   "execution_count": 12,
   "metadata": {},
   "outputs": [],
   "source": [
    "asThick = 100. * 10**3 / refdepth\n",
    "asTop = 0.0 - slabh\n",
    "asbot = asTop - asThick\n",
    "asdip = asbot- 200. * 10**3 / refdepth\n",
    "dasTop = asbot-np.tan(aangle) * 500 * 10**3 / refdepth + asThick\n",
    "dasbot = asbot-np.tan(aangle) * 500 * 10**3 / refdepth\n",
    "daspoint = asdip / m"
   ]
  },
  {
   "cell_type": "code",
   "execution_count": 13,
   "metadata": {},
   "outputs": [],
   "source": [
    "# initialise the 'materialVariable' data to represent two different materials. \n",
    "MantleIndex      = 0\n",
    "slabIndex        = 1\n",
    "asthenIndex      = 2\n",
    "\n",
    "# Initial material layout has a flat lying slab with at 15\\degree perturbation\n",
    "\n",
    "fslabUpShape = np.array([(Xmax-100. * 10**3 / refdepth, Ymax),(Xmax, Ymax),(Xmax, Ymax-slabh),(Xmax-100. * 10**3 / refdepth, Ymax-slabh)])\n",
    "asthenUpShape = np.array([(Xmax-100. * 10**3 / refdepth, asTop),(Xmax, asTop),(Xmax, asbot),(Xmax-100. * 10**3 / refdepth, asbot)])\n",
    "mantUpShape = np.array([(Xmax-100. * 10**3 / refdepth, asbot),(Xmax, asbot),(Xmax, Ymin),(Xmax-100. * 10**3 / refdepth, Ymin)])\n",
    "asthenUp    = fn.shape.Polygon( asthenUpShape )\n",
    "fslabUp = fn.shape.Polygon( fslabUpShape )\n",
    "mantUp = fn.shape.Polygon( mantUpShape )\n",
    "\n",
    "asthenShape    = np.array([ (apex, asTop), (Xmax, asTop), (Xmax, asbot), (apex, asbot), (daspoint,asdip)]) #(apex-0.5,dasbot), (apex-0.5,dasTop)])\n",
    "\n",
    "fslab  = fn.shape.Polygon( flatslab )\n",
    "dslab = fn.shape.Polygon( dipslab )\n",
    "\n",
    "asthen    = fn.shape.Polygon( asthenShape )\n",
    "\n",
    "\n",
    "# initialise everying to be upper mantle material\n",
    "materialVariable.data[:] = MantleIndex\n",
    "\n",
    "# change matieral index if the particle is not upper mantle\n",
    "for index in range( len(swarm.particleCoordinates.data) ):\n",
    "    coord = swarm.particleCoordinates.data[index][:]\n",
    "    if fslab.evaluate(tuple(coord)) or dslab.evaluate(tuple(coord)):\n",
    "            materialVariable.data[index] = slabIndex\n",
    "    elif asthen.evaluate(tuple(coord)):\n",
    "            materialVariable.data[index] = asthenIndex"
   ]
  },
  {
   "cell_type": "code",
   "execution_count": 14,
   "metadata": {
    "scrolled": true
   },
   "outputs": [
    {
     "data": {
      "text/html": [
       "<img src='data:image/png;base64,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'>"
      ],
      "text/plain": [
       "<IPython.core.display.HTML object>"
      ]
     },
     "metadata": {},
     "output_type": "display_data"
    }
   ],
   "source": [
    "store = vis.Store('output/Angle1')                                                                  #############2###\n",
    "figParticle = vis.Figure( store, figsize=(960,300), name=\"Particles\" )\n",
    "figParticle.append( vis.objects.Points(swarm, materialVariable, pointSize=2, colours='green blue red') )\n",
    "figParticle.show()"
   ]
  },
  {
   "cell_type": "markdown",
   "metadata": {},
   "source": [
    "**Plot the initial positions for the particle swarm and colour by material type**\n",
    "\n",
    "We are using a vis store object to keep all our figures together and allow them to be revisualised later so create this here and pass it to all the figures created later. We'll also name this figure to make it easy to find later when revisualising."
   ]
  },
  {
   "cell_type": "markdown",
   "metadata": {},
   "source": [
    "Set up material parameters and functions\n",
    "----\n",
    "\n",
    "Here the functions for density, viscosity, gravity and buoyancy are set. "
   ]
  },
  {
   "cell_type": "markdown",
   "metadata": {},
   "source": [
    "**Viscosity function**\n",
    "\n",
    "The slab is simple and yields. the upper and lower mantle have the same viscosity for now (future iterations will have different viscosity laws for each, powerlaw in upper and newtonian in lower). The thin asthenosphere analog has a very low viscosity that will be varied for testing. "
   ]
  },
  {
   "cell_type": "code",
   "execution_count": 15,
   "metadata": {},
   "outputs": [],
   "source": [
    "MantleViscosity      =  10. ** 20 / refvisc\n",
    "slabViscosity        =  10. ** 23 / refvisc\n",
    "asthenViscosity      =  4 * 10. ** 19 / refvisc\n",
    "\n",
    "# The yeilding of the upper slab is dependent on the strain rate.\n",
    "strainRate_2ndInvariant = fn.tensor.second_invariant( \n",
    "                            fn.tensor.symmetric( \n",
    "                            velocityField.fn_gradient ))\n",
    "cohesion = 0.06\n",
    "vonMises = 0.5 * cohesion / (strainRate_2ndInvariant+1.0e-18)\n",
    "\n",
    "# The upper slab viscosity is the minimum of the 'slabViscosity' or the 'vonMises' \n",
    "slabYieldvisc = fn.exception.SafeMaths( fn.misc.min(vonMises, slabViscosity) )\n",
    "\n",
    "# Viscosity function for the materials \n",
    "viscosityMap = { MantleIndex      : MantleViscosity, \n",
    "                 slabIndex        : slabViscosity,\n",
    "                 asthenIndex      : asthenViscosity}\n",
    "viscosityMapFn = fn.branching.map( fn_key = materialVariable, mapping = viscosityMap )"
   ]
  },
  {
   "cell_type": "markdown",
   "metadata": {},
   "source": [
    "Note: ``SafeMaths`` in the above cell refers to a function which checks the value passed inside for any infinite or other not-a-number type errors."
   ]
  },
  {
   "cell_type": "markdown",
   "metadata": {},
   "source": [
    "**Set the density function, vertical unit vector and Buoyancy Force function**\n"
   ]
  },
  {
   "cell_type": "code",
   "execution_count": 16,
   "metadata": {},
   "outputs": [],
   "source": [
    "#density is same as slab\n",
    "\n",
    "mantleDensity = 3300 / refrho\n",
    "slabDensity   = 3500 / refrho\n",
    "asthenDensity = (1 - .02) * 3300 / refrho   #2% density decrease\n",
    "airDensity    = 0.000000001\n",
    "\n",
    "densityMap = { MantleIndex : mantleDensity, \n",
    "               slabIndex    : slabDensity,\n",
    "               asthenIndex      : asthenDensity}\n",
    "densityFn = fn.branching.map( fn_key = materialVariable, mapping = densityMap )\n",
    "\n",
    "# Define our vertical unit vector using a python tuple\n",
    "z_hat = ( 0.0, 1.0 )\n",
    "\n",
    "# now create a buoyancy force vector\n",
    "buoyancyFn = -9.8 / refg * densityFn * z_hat"
   ]
  },
  {
   "cell_type": "markdown",
   "metadata": {},
   "source": [
    "**Set initial and boundary conditions**"
   ]
  },
  {
   "cell_type": "code",
   "execution_count": 17,
   "metadata": {},
   "outputs": [],
   "source": [
    "# set initial conditions (and boundary values)\n",
    "velocityField.data[:] = [0.,0.]\n",
    "pressureField.data[:] = 0.\n",
    "\n",
    "#set up the moving wall condition"
   ]
  },
  {
   "cell_type": "markdown",
   "metadata": {},
   "source": [
    "## setup slab velocities"
   ]
  },
  {
   "cell_type": "code",
   "execution_count": 18,
   "metadata": {},
   "outputs": [],
   "source": [
    "#calculate the x and y velocities\n",
    "us=np.cos(angle) * velocity"
   ]
  },
  {
   "cell_type": "code",
   "execution_count": 19,
   "metadata": {},
   "outputs": [],
   "source": [
    "vs=np.sin(angle) * velocity"
   ]
  },
  {
   "cell_type": "code",
   "execution_count": 20,
   "metadata": {},
   "outputs": [],
   "source": [
    "#grab the flat part of the slab\n",
    "slab_handcrafted = mesh.specialSets['Empty']\n",
    "for index,coord in enumerate(mesh.data):\n",
    "    # grab only top right wall indices\n",
    "    if coord[0] >= apex and 0. >= coord[1] >= 0. - slabh :\n",
    "        slab_handcrafted.add(index)\n",
    "        \n",
    "#apply the velocity condition\n",
    "velocityField.data[slab_handcrafted]=(velocity, 0.)\n"
   ]
  },
  {
   "cell_type": "code",
   "execution_count": 21,
   "metadata": {},
   "outputs": [],
   "source": [
    "#grab the sinking part of the slab\n",
    "sinkingslab_handcrafted = mesh.specialSets['Empty']\n",
    "for index,coord in enumerate(mesh.data):\n",
    "    # grab only top right wall indices\n",
    "    if coord [0] < apex and m* coord[0] + 0.0 - slabh < coord[1] < m * coord[0] + 0.0 :\n",
    "        sinkingslab_handcrafted.add(index)\n",
    "        \n",
    "#apply the velocity condition       coord[1] > dbtm and\n",
    "velocityField.data[sinkingslab_handcrafted]=(us, vs)"
   ]
  },
  {
   "cell_type": "code",
   "execution_count": 22,
   "metadata": {},
   "outputs": [],
   "source": [
    "#grab the left wall below the slab\n",
    "belowslabL_handcrafted = mesh.specialSets['Empty']\n",
    "for index,coord in enumerate(mesh.data):\n",
    "    # grab only below the slab\n",
    "    if coord[1] < dbtm and coord [0] < Xmin + 0.01 :\n",
    "        belowslabL_handcrafted.add(index)\n",
    "        \n",
    "#apply the velocity condition\n",
    "velocityField.data[belowslabL_handcrafted]=(0., 0.)"
   ]
  },
  {
   "cell_type": "code",
   "execution_count": 23,
   "metadata": {},
   "outputs": [],
   "source": [
    "#grab the left wall below the slab\n",
    "belowslabR_handcrafted = mesh.specialSets['Empty']\n",
    "for index,coord in enumerate(mesh.data):\n",
    "    # grab only below the slab\n",
    "    if coord[1] < 0 - asbot and coord [0] > Xmax - 0.01 :\n",
    "        belowslabR_handcrafted.add(index)\n",
    "        \n",
    "#apply the velocity condition\n",
    "velocityField.data[belowslabR_handcrafted]=(0., 0.)"
   ]
  },
  {
   "cell_type": "code",
   "execution_count": 24,
   "metadata": {},
   "outputs": [],
   "source": [
    "#grab the lith depths of the right wall\n",
    "movingrightwall_handcrafted = mesh.specialSets['Empty']\n",
    "for index,coord in enumerate(mesh.data):\n",
    "    # grab only top right wall indices\n",
    "    if coord[0]> Xmax - .01 and coord[1] > 0.0 - slabh:\n",
    "        movingrightwall_handcrafted.add(index)\n",
    "        \n",
    "velocityField.data[movingrightwall_handcrafted]=(velocity, 0.)"
   ]
  },
  {
   "cell_type": "code",
   "execution_count": 25,
   "metadata": {},
   "outputs": [],
   "source": [
    "c = asThick\n",
    "a = dbtm\n",
    "b = a - c\n",
    "\n",
    "\n",
    "#grab the lith depths of the right wall\n",
    "tinyLeft_handcrafted = mesh.specialSets['Empty']\n",
    "for index,coord in enumerate(mesh.data):\n",
    "    # grab only top right wall indices\n",
    "    if coord[0] < Xmin + .01 and a >= coord[1] >= b:\n",
    "        tinyLeft_handcrafted.add(index)\n",
    "        velocityField.data[index]=(us*((c-(a-coord[1]))/c), vs*((c-(a-coord[1]))/c))\n",
    "        \n",
    "#velocityField.data[tinyLeft_handcrafted]=(velocity, 0.)"
   ]
  },
  {
   "cell_type": "code",
   "execution_count": 26,
   "metadata": {},
   "outputs": [],
   "source": [
    "c = asThick\n",
    "a = dtop + c\n",
    "b = dtop\n",
    "\n",
    "\n",
    "#grab the lith depths of the right wall\n",
    "tinyLefttop_handcrafted = mesh.specialSets['Empty']\n",
    "for index,coord in enumerate(mesh.data):\n",
    "    # grab only top right wall indices\n",
    "    if coord[0] < Xmin + .01 and a >= coord[1] >= b:\n",
    "        tinyLefttop_handcrafted.add(index)\n",
    "        velocityField.data[index]=(us*((c-(coord[1]-b))/c), vs*((c-(coord[1]-b))/c))\n",
    "        \n",
    "        \n",
    "restLefttop_handcrafted = mesh.specialSets['Empty']\n",
    "for index,coord in enumerate(mesh.data):\n",
    "    # grab only top right wall indices\n",
    "    if coord[0] < Xmin + .01 and coord[1] > a:\n",
    "        restLefttop_handcrafted.add(index)\n",
    "\n",
    "velocityField.data[restLefttop_handcrafted]=(0., 0.)"
   ]
  },
  {
   "cell_type": "code",
   "execution_count": 27,
   "metadata": {},
   "outputs": [],
   "source": [
    "c = asThick\n",
    "a = 0.-slabh\n",
    "b = a-c\n",
    "\n",
    "#grab the lith depths of the right wall\n",
    "tinyRight_handcrafted = mesh.specialSets['Empty']\n",
    "for index,coord in enumerate(mesh.data):\n",
    "    # grab only top right wall indices\n",
    "    if coord[0] > Xmax - .01 and a >= coord[1] >= b:\n",
    "        tinyRight_handcrafted.add(index)\n",
    "        velocityField.data[index]=(velocity*((c-(a-coord[1]))/c), 0.)\n",
    "        \n",
    "#velocityField.data[tinyLeft_handcrafted]=(velocity, 0.)"
   ]
  },
  {
   "cell_type": "code",
   "execution_count": 28,
   "metadata": {},
   "outputs": [],
   "source": [
    "#movingleftwall_handcrafted = mesh.specialSets['Empty']\n",
    "#for index,coord in enumerate(mesh.data):\n",
    "#    # grab only left wall indices\n",
    "#    if coord[0]<0.01 and dtop>coord[1]>dbtm:\n",
    "#        movingleftwall_handcrafted.add(index)\n",
    "        \n",
    "#velocityField.data[movingleftwall_handcrafted]=(us,vs)"
   ]
  },
  {
   "cell_type": "code",
   "execution_count": 29,
   "metadata": {},
   "outputs": [],
   "source": [
    "edgeWalls = mesh.specialSets['AllWalls_VertexSet']\n",
    "topWalls = mesh.specialSets['Top_VertexSet']\n",
    "btmWalls = mesh.specialSets['Bottom_VertexSet']\n",
    "\n",
    "allWalls = edgeWalls + slab_handcrafted + sinkingslab_handcrafted\n",
    "\n",
    "someWallsU = slab_handcrafted + sinkingslab_handcrafted + topWalls + belowslabL_handcrafted + belowslabR_handcrafted + tinyRight_handcrafted + tinyLeft_handcrafted +tinyLefttop_handcrafted + restLefttop_handcrafted\n",
    "\n",
    "someWallsV = btmWalls + slab_handcrafted + sinkingslab_handcrafted + topWalls + tinyRight_handcrafted + tinyLeft_handcrafted +tinyLefttop_handcrafted\n",
    "\n",
    "\n",
    "condition = uw.conditions.DirichletCondition(velocityField, (someWallsU,someWallsV) )"
   ]
  },
  {
   "cell_type": "code",
   "execution_count": 30,
   "metadata": {
    "scrolled": false
   },
   "outputs": [
    {
     "data": {
      "text/html": [
       "<img src='data:image/png;base64,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'>"
      ],
      "text/plain": [
       "<IPython.core.display.HTML object>"
      ]
     },
     "metadata": {},
     "output_type": "display_data"
    }
   ],
   "source": [
    "figVelocityMag = vis.Figure(figsize=(960,300))\n",
    "figVelocityMag.append( vis.objects.Surface(mesh, fn.math.sqrt(fn.math.dot(velocityField,velocityField))) )\n",
    "figVelocityMag.VectorArrows(mesh, velocityField)\n",
    "figVelocityMag.show()"
   ]
  },
  {
   "cell_type": "markdown",
   "metadata": {},
   "source": [
    "**System Setup**"
   ]
  },
  {
   "cell_type": "code",
   "execution_count": 31,
   "metadata": {},
   "outputs": [],
   "source": [
    "# Initial linear slab viscosity setup\n",
    "stokes = uw.systems.Stokes(    velocityField = velocityField, \n",
    "                               pressureField = pressureField,\n",
    "                               conditions    = condition,\n",
    "                               fn_viscosity  = viscosityMapFn, \n",
    "                               fn_bodyforce  = buoyancyFn )\n",
    "# Create solver & solve\n",
    "solver = uw.systems.Solver(stokes)"
   ]
  },
  {
   "cell_type": "code",
   "execution_count": 32,
   "metadata": {},
   "outputs": [],
   "source": [
    "# use \"mumps\" direct solve, best for 2D models.\n",
    "solver.set_inner_method(\"mumps\")"
   ]
  },
  {
   "cell_type": "code",
   "execution_count": 33,
   "metadata": {},
   "outputs": [],
   "source": [
    "advector = uw.systems.SwarmAdvector( swarm=swarm, velocityField=velocityField, order=2 )"
   ]
  },
  {
   "cell_type": "markdown",
   "metadata": {},
   "source": [
    "**Analysis tools**"
   ]
  },
  {
   "cell_type": "code",
   "execution_count": 34,
   "metadata": {},
   "outputs": [
    {
     "data": {
      "text/plain": [
       "<underworld.visualisation.objects.VectorArrows at 0x7efc3524fd68>"
      ]
     },
     "execution_count": 34,
     "metadata": {},
     "output_type": "execute_result"
    }
   ],
   "source": [
    "#Plot of Velocity Magnitude\n",
    "figVelocityMag = vis.Figure(store, figsize=(960,300))\n",
    "figVelocityMag.append( vis.objects.Surface(mesh, fn.math.sqrt(fn.math.dot(velocityField,velocityField))) )\n",
    "\n",
    "#Plot of Strain Rate, 2nd Invariant\n",
    "figStrainRate = vis.Figure(store, figsize=(960,300))\n",
    "figStrainRate.append( vis.objects.Surface(mesh, strainRate_2ndInvariant, logScale=True) )\n",
    "\n",
    "#Plot of particles viscosity\n",
    "figViscosity = vis.Figure(store, figsize=(960,300))\n",
    "figViscosity.append( vis.objects.Points(swarm, viscosityMapFn, pointSize=2) )\n",
    "\n",
    "#Plot of particles stress invariant\n",
    "figStress = vis.Figure( store, figsize=(960,300) )\n",
    "figStress.append( vis.objects.Points(swarm, 2.0*viscosityMapFn*strainRate_2ndInvariant, pointSize=2, logScale=True) )\n",
    "\n",
    "#plot of velocity magnitude with vectors\n",
    "figVelocityVecMag = vis.Figure(figsize=(960,300))\n",
    "figVelocityVecMag.append( vis.objects.Surface(mesh, fn.math.sqrt(fn.math.dot(velocityField,velocityField))) )\n",
    "figVelocityVecMag.VectorArrows(mesh, velocityField)"
   ]
  },
  {
   "cell_type": "markdown",
   "metadata": {},
   "source": [
    "Main simulation loop\n",
    "=======\n",
    "\n",
    "The main time stepping loop begins here. Inside the time loop the velocity field is solved for via the Stokes system solver and then the swarm is advected using the advector integrator. Basic statistics are output to screen each timestep."
   ]
  },
  {
   "cell_type": "code",
   "execution_count": 35,
   "metadata": {},
   "outputs": [],
   "source": [
    "time = 0.  # Initial time\n",
    "step = 0   # Initial timestep\n",
    "maxSteps = 301   # Maximum timesteps (201 is recommended)\n",
    "steps_output = 10   # output every 10 timesteps"
   ]
  },
  {
   "cell_type": "code",
   "execution_count": 36,
   "metadata": {},
   "outputs": [],
   "source": [
    "swarm_popcontrol = uw.swarm.PopulationControl(\n",
    "    swarm,\n",
    "    deleteThreshold=0.002,\n",
    "    splitThreshold=0.20,\n",
    "    maxDeletions=0,\n",
    "    maxSplits=80,\n",
    "    aggressive=True,\n",
    "    aggressiveThreshold=0.98,\n",
    "    particlesPerCell=20,\n",
    ")    "
   ]
  },
  {
   "cell_type": "code",
   "execution_count": 37,
   "metadata": {},
   "outputs": [],
   "source": [
    "# define an update function\n",
    "def update():\n",
    "    # Retrieve the maximum possible timestep for the advection system.\n",
    "    dt = advector.get_max_dt()\n",
    "    # Advect using this timestep size.\n",
    "    advector.integrate(dt)\n",
    "    \n",
    "    swarm_popcontrol.repopulate()\n",
    "    \n",
    "    for index in range( len(swarm.particleCoordinates.data) ):\n",
    "        coord = swarm.particleCoordinates.data[index][:]\n",
    "        if fslabUp.evaluate(tuple(coord)):\n",
    "            materialVariable.data[index] = slabIndex\n",
    "        if asthenUp.evaluate(tuple(coord)):\n",
    "            materialVariable.data[index] = asthenIndex\n",
    "        if mantUp.evaluate(tuple(coord)):\n",
    "            materialVariable.data[index] = MantleIndex\n",
    "\n",
    "   \n",
    "\n",
    "    return time+dt, step+1"
   ]
  },
  {
   "cell_type": "code",
   "execution_count": 38,
   "metadata": {
    "scrolled": false
   },
   "outputs": [
    {
     "name": "stderr",
     "output_type": "stream",
     "text": [
      "/opt/venv/lib/python3.7/site-packages/underworld/systems/_bsscr.py:482: UserWarning: A PETSc error has been encountered during the solve. Solution fields are possibly erroneous. \n",
      "\n",
      "This error is probably due to an incorrectly constructed linear system. Please check that your boundary conditions are consistent and sufficient and that your viscosity is positive everywhere. If you are deforming the mesh, ensure that it has not become tangled. \n",
      "\n",
      "The resultant KSPConvergedReasons are (f_hat, outer, backsolve) (0,-3,0).\n",
      "\n",
      "\n",
      "  warnings.warn(estring)\n"
     ]
    },
    {
     "name": "stdout",
     "output_type": "stream",
     "text": [
      "step =      0; time = 0.000e+00; Vrms = 1.436e-05\n",
      "step =     10; time = 5.320e+02; Vrms = 1.420e-05\n",
      "step =     20; time = 1.064e+03; Vrms = 1.403e-05\n",
      "step =     30; time = 1.596e+03; Vrms = 1.386e-05\n",
      "step =     40; time = 2.101e+03; Vrms = 1.374e-05\n",
      "step =     50; time = 2.609e+03; Vrms = 1.360e-05\n",
      "step =     60; time = 3.115e+03; Vrms = 1.345e-05\n",
      "step =     70; time = 3.545e+03; Vrms = 1.335e-05\n",
      "step =     80; time = 4.077e+03; Vrms = 1.320e-05\n",
      "step =     90; time = 4.590e+03; Vrms = 1.309e-05\n",
      "step =    100; time = 5.077e+03; Vrms = 1.298e-05\n",
      "step =    110; time = 5.583e+03; Vrms = 1.285e-05\n",
      "step =    120; time = 6.048e+03; Vrms = 1.273e-05\n",
      "step =    130; time = 6.526e+03; Vrms = 1.265e-05\n",
      "step =    140; time = 6.983e+03; Vrms = 1.254e-05\n",
      "step =    150; time = 7.437e+03; Vrms = 1.246e-05\n",
      "step =    160; time = 7.914e+03; Vrms = 1.235e-05\n",
      "step =    170; time = 8.392e+03; Vrms = 1.225e-05\n",
      "step =    180; time = 8.873e+03; Vrms = 1.217e-05\n",
      "step =    190; time = 9.330e+03; Vrms = 1.208e-05\n",
      "step =    200; time = 9.805e+03; Vrms = 1.201e-05\n",
      "step =    210; time = 1.029e+04; Vrms = 1.190e-05\n",
      "step =    220; time = 1.074e+04; Vrms = 1.184e-05\n",
      "step =    230; time = 1.122e+04; Vrms = 1.175e-05\n",
      "step =    240; time = 1.167e+04; Vrms = 1.170e-05\n",
      "step =    250; time = 1.214e+04; Vrms = 1.164e-05\n",
      "step =    260; time = 1.260e+04; Vrms = 1.157e-05\n",
      "step =    270; time = 1.305e+04; Vrms = 1.151e-05\n",
      "step =    280; time = 1.350e+04; Vrms = 1.146e-05\n",
      "step =    290; time = 1.391e+04; Vrms = 1.139e-05\n",
      "step =    300; time = 1.437e+04; Vrms = 1.137e-05\n"
     ]
    }
   ],
   "source": [
    "while step < maxSteps:\n",
    "    # Solve non linear Stokes system\n",
    "    solver.solve(nonLinearIterate=True)\n",
    "    # output figure to file at intervals = steps_output\n",
    "    if step % steps_output == 0 or step == maxSteps-1:\n",
    "        #Important to set the timestep for the store object here or will overwrite previous step\n",
    "        store.step = step\n",
    "        figParticle.save(               outputPath + \"particle\"        + str(step).zfill(4))\n",
    "        figVelocityMag.save(            outputPath + \"velocityMag\"     + str(step).zfill(4))\n",
    "        #figViscosity.save(              outputPath + \"viscosity\"       + str(step).zfill(4))\n",
    "        figVelocityVecMag.save(      outputPath + \"vector\"          + str(step).zfill(4))\n",
    "       \n",
    "        \n",
    "        vrms = stokes.velocity_rms()\n",
    "        if rank==0: print('step = {0:6d}; time = {1:.3e}; Vrms = {2:.3e}'.format(step,time,vrms))\n",
    "\n",
    "    # update\n",
    "    time,step = update()"
   ]
  },
  {
   "cell_type": "code",
   "execution_count": 39,
   "metadata": {},
   "outputs": [
    {
     "data": {
      "text/plain": [
       "<underworld.utils._utils.SavedFileData at 0x7efc352fd390>"
      ]
     },
     "execution_count": 39,
     "metadata": {},
     "output_type": "execute_result"
    }
   ],
   "source": [
    "swarm.save(                     outputPath + \"swarm\"           + str(step).zfill(4) + \".h5\")\n",
    "velocityField.save(             outputPath + \"mesh.velo\"       + str(step).zfill(4) + \".h5\")\n",
    "swarm.particleCoordinates.save( outputPath + \"swarm.particles\" + str(step).zfill(4) + \".h5\")"
   ]
  },
  {
   "cell_type": "code",
   "execution_count": 40,
   "metadata": {},
   "outputs": [
    {
     "data": {
      "text/html": [
       "<img src='data:image/png;base64,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'>"
      ],
      "text/plain": [
       "<IPython.core.display.HTML object>"
      ]
     },
     "metadata": {},
     "output_type": "display_data"
    }
   ],
   "source": [
    "store = vis.Store('output/Angle1')                                                                          ######3##\n",
    "figVelocityMag = vis.Figure(figsize=(960,300), name=\"VeloVectors\" )\n",
    "figVelocityMag.append( vis.objects.Surface(mesh, fn.math.sqrt(fn.math.dot(velocityField,velocityField))) )\n",
    "figVelocityMag.VectorArrows(mesh, velocityField)\n",
    "figVelocityMag.show()"
   ]
  },
  {
   "cell_type": "code",
   "execution_count": 41,
   "metadata": {},
   "outputs": [
    {
     "data": {
      "text/html": [
       "<img src='data:image/png;base64,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'>"
      ],
      "text/plain": [
       "<IPython.core.display.HTML object>"
      ]
     },
     "metadata": {},
     "output_type": "display_data"
    }
   ],
   "source": [
    "store = vis.Store('output/Angle1')                                                                   ##############4##\n",
    "figParticle = vis.Figure( store, figsize=(960,300), name=\"Particles\" )\n",
    "figParticle.append( vis.objects.Points(swarm, materialVariable, pointSize=2, colours='white purple blue red') )\n",
    "figParticle.show()"
   ]
  },
  {
   "cell_type": "markdown",
   "metadata": {},
   "source": [
    "Post simulation analysis\n",
    "-----\n",
    "\n",
    "Plot all figures for the resulting system using LavaVu to load the saved visualisation.\n",
    "This allows us to open a previously saved visualisation database, just pass the same name used when creating the Store object"
   ]
  },
  {
   "cell_type": "code",
   "execution_count": 42,
   "metadata": {},
   "outputs": [],
   "source": [
    "import underworld.visualisation as vis\n",
    "viewer = vis.Viewer('output/Angle1')                                                                 ##############5##\n",
    "viewer.step = 300"
   ]
  },
  {
   "cell_type": "markdown",
   "metadata": {},
   "source": [
    "Here we print some information about the loaded visualisation which shows what data is available\n",
    "(as we only gave our first figure a name \"Particles\" the others have been automatically named)"
   ]
  },
  {
   "cell_type": "code",
   "execution_count": 43,
   "metadata": {},
   "outputs": [
    {
     "name": "stdout",
     "output_type": "stream",
     "text": [
      "Saved database 'output/Angle1.gldb'\n",
      " - 1 figures : dict_keys(['Particles'])\n",
      " - 31 timesteps (final = 300) : [0, 10, 20, 30, 40, 50, 60, 70, 80, 90, 100, 110, 120, 130, 140, 150, 160, 170, 180, 190, 200, 210, 220, 230, 240, 250, 260, 270, 280, 290, 300]\n"
     ]
    }
   ],
   "source": [
    "figs = viewer.figures\n",
    "steps = viewer.steps\n",
    "if rank==0:\n",
    "    print(\"Saved database '%s'\" % (viewer.filename))\n",
    "    print(\" - %d figures : %s\" % (len(figs), str(figs.keys())))\n",
    "    print(\" - %d timesteps (final = %d) : %s\" % (len(steps), steps[-1], steps))"
   ]
  },
  {
   "cell_type": "markdown",
   "metadata": {},
   "source": [
    "We just want to look at the final state of the simulation, so set the timestep to the last one in the list and loop through all the figures, plotting each one"
   ]
  },
  {
   "cell_type": "code",
   "execution_count": 44,
   "metadata": {},
   "outputs": [],
   "source": [
    "#grab the mantle below the slab only\n",
    "ugh = mesh.specialSets['Empty']\n",
    "for index,coord in enumerate(mesh.data):\n",
    "    if coord [0] < apex and coord[1] < (m* coord[0] + 0.0 - slabh) - 0.05 and coord[1] > -0.25:\n",
    "        ugh.add(index)\n",
    "        \n",
    "        \n",
    "gah = mesh.specialSets['Empty']\n",
    "for index,coord in enumerate(mesh.data):\n",
    "    if coord [0] >= apex and coord[1] < 0.0 - slabh and coord[1] > -0.25:\n",
    "        gah.add(index)\n",
    "\n",
    "\n"
   ]
  },
  {
   "cell_type": "code",
   "execution_count": 45,
   "metadata": {},
   "outputs": [
    {
     "data": {
      "text/html": [
       "<img src='data:image/png;base64,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'>"
      ],
      "text/plain": [
       "<IPython.core.display.HTML object>"
      ]
     },
     "metadata": {},
     "output_type": "display_data"
    }
   ],
   "source": [
    "blah = mesh.add_variable(         nodeDofCount=2 )\n",
    "blah.data[:] = [0.,0.]\n",
    "blah.data[ugh] = velocityField.data[ugh]\n",
    "blah.data[gah] = velocityField.data[gah]\n",
    "store = vis.Store('output/Angle1')                                                                   ##############6##\n",
    "figVelocityMag = vis.Figure(figsize=(960,300), name=\"VeloVectors\" )\n",
    "figVelocityMag.append( vis.objects.Surface(mesh, fn.math.sqrt(fn.math.dot(velocityField,velocityField))) )\n",
    "figVelocityMag.VectorArrows(mesh, blah)\n",
    "figVelocityMag.show()"
   ]
  },
  {
   "cell_type": "code",
   "execution_count": 46,
   "metadata": {},
   "outputs": [
    {
     "data": {
      "text/html": [
       "<img src='data:image/png;base64,iVBORw0KGgoAAAANSUhEUgAAA8AAAAEsCAIAAACDrU0cAAAgAElEQVR4nO3dd5wc9WH38e9vZrZdbzp16SSQUEVCdIGMiDEumGLcUhwb7MflcRx3x4mT2PLzuAWXR25xEie24pLYThy6MQZsGdEMBiQhBJJAHaF6/W7LlN/zx56kuy2HRgYdgs/7pRevvdnZmd/M7onPjmZnjbVWAAAAAI6NM9YDAAAAAE4mBDQAAAAQAwENAAAAxEBAAwAAADEQ0AAAAEAMBDQAAAAQAwENAAAAxEBAAwAAADEQ0AAAAEAMBDQAAAAQAwENAAAAxEBAAwAAADEQ0AAAAEAMBDQAAAAQAwENAAAAxEBAAwAAADEQ0AAAAEAMBDQAAAAQAwENAAAAxEBAAwAAADEQ0AAAAEAMBDQAAAAQAwENAAAAxEBAAwAAADEQ0AAAAEAMBDQAAAAQAwENAAAAxEBAAwAAADEQ0AAAAEAMBDQAAAAQAwENAAAAxEBAAwAAADEQ0AAAAEAMBDQAAAAQAwENAAAAxEBAAwAAADEQ0AAAAEAMBDQAAAAQgzfWAwBODqtWrXr/ivdnd2THeiAA8EL5zGc+s2LFirEeBXASIKCBY7J9+/bsNVmtGOtx4Nhkdk71m7vqNp+2/JI1khl2jz38Y/HGkf9q2I+qNF1lyymfMsqPJatW2b3V5rGH76q28PIVDR/hkcdWXGnJTjCVtmKUhdhRd1rFTau428u3vXyxFTfQlO2KiquuaPTRVluLHfmkaNh0Vdl1o78qRllLxeVUe5nZkfNUu12+x47efjL3+UpjA1ABAQ3gpcbJJ1t+d97ij3w7MVBXqUHtyNlHKd0j048spPyuikFjh/2oSs1kKlVOyRo1Mo+Gz18e2eUFXDH3S8qvfOeUN2XJMkv2gy0bc7UELN9jo5R6+Wir9fTwidXe4Yy+f6rVf/kO18jlqMrOKRle+S4q397yHVKygeU/lmxy+T5Rpc0Z/tiKexLAMSGgAZz8rNp+e3HQ0GPdqGfB+tZ7l5313lXGmiqVUB5AR25XPBqq50qckiWretaUJ+/wDLKjRl6sA7SjHDtX2aaVb4hGDqxiUFY8Vl1xw4fPX3HV1Y68lr9PqLZRJY+quBxTac7hW1r+pNiymcu3vWThw99gjN6s5U/6cw6y2gHsiio+I6M/iQCOFQEN4GQWGUlOIXn2O38QprOpQ22DU3dl9k46XM+q0gejHKwdPo+qV9TweY4oP4RZ3oUVY67iwocvv9pBTVs2vUTFkC05eGlH3lutqyoePa1YliXvE6otsGJTVgvNktvV3jyUpOHogVjxEGz5+wdVWUu1Tai4impbWv7A8ncm1XZdxYmjvIVQ2X6jnoHjREADOAlZObm0iZzGtWd0/OBaGZvqaiveUf/07KE5jsw62sHIik1cUqglqWpH1o8ddu8o3VN+7LliApYstrybNWx6SciWzDZKRI5+KFRV9snw4ZV7zl1a8mN5tQ9fjsq2QpXmKZ+55Ha10q3Wl8M3p9rh8IpvZspHW20V1TK3fCtK8rr83dEobw/Kn4Lhw6t2L4BjRUADOAk42bTXV18YdyC1v90UkuPvfPWp3/5goqcpdajVWFdS9YOd5QVW7d7hbVHt8OcoLTj6kUhzuFBL7jVVRn5k/pLxVyu5kqVVTKLyeBo+nlGyb3iYlhzzHr1Qq6V2xT1WcY0l70+OMRnL32yU3y5ZY8V3LOW3K+7SkrcEqrQPKy6w4huAisNTpYZ+zrVUexYq/o4AiIGABvDiM1RNxskno6SffnbiK169OkwPPvu6W079p7+U5ASJsrlVpYBLG9ezfiSTUKHG9uZMrWsD36SMrFGUV42ngmQTtpAzdfX2UN7UuDbIm4yR0ra/YNJp22/lDpgGV2HG9hZMJqt6T37SDuZNba3tdhQOmsaG6GCPM85XMq1B1/r9prnRHsib2rTtz5r6QAlPBUmRPCtTZzsd2V7T2mgPDJjGUIla223lWJlBU+8pcG0gWWucgtIZ2zdgGtMaSNrcgGlM2lze1DRF+7Km3jdpo8i1fmCSR7Y6lNdk9+dU6yoIlSiYdMoOWDmBSUZykjbnqeArHZhExvblTJ0kR2FeNVbGVZCwuZSy/aYpbQcjOVlT12L3OjYcME2ScqYmqazkhHIdRQmbz5uMJz+SEyphZDO2L5IzaBqTyvpKFdfVZPfnTMaxUcb29zptkVxPhUAJT36gZHGNeWWa7V5HUZ9pdeTnVOebjJVCea6CSK6V02AP9pq2OtvVb5o8FaycUK4nvynaL9kDbodnc4GS9bazYDL10aFuZ3ygZJPd12va0hqI5PpK1tnuPtOSsX1Wjqsga2oTymfV4Ciotb2Owh7TJuNIaol2e9bPmbriSyqSGxo3UEIytba737SESmRsb0IFK6fXaW2MDgyaesn4StbarrypdRRKpqC0o7DOdvkm5SsZmJRnC5E8T/m6qHPAaTaKkjbb64wrvowTNpux/VbGkz9oGozClM32mjZXQVK5hM0PmMbAJGuj7si4OdW5KkjGVVBQusnuz5uaUG7CFiLjhEpkbF+/aY7k1dnOvMkESoXG9Wwg2YTNSXUv6G828JJBQAN4cYhMoqvZb+l0B2rG/+q1AzOenvkv76/fNGf3m3/Sds8rMs9OMtap/9ZHKz2y2iHJocNsxkZJZU8LHqizXecXrq9TV59pS9mB2eGDWVO/2zmtPdrpm/R2Z0GN7el2xk8LHx8X7droXRAqkVS2Odrb67Q1RfvHRTv7nObG6ICVs9/p6DfNU6MnnnVO8ZR3bJhU/hlnVlv0zORo0yb33PnhPbud057yzqqPDrVH2w85k2cHD211F88P13Q5E3c4CxyF9VHnXrdjQrQtaXOTo037nBlN0b4B0/ise+pi/66sqe8zLY6CZ5zTQuNNDJ/uc5p3uAvro0N9pnVxcFfBpEO546Jd/aa5xvZ2mYm73dnj7K5B1SeVGzQNoRJt0a5ep21ecG8kJ2fqHvRen7H9U6MnJkZPbXMWdTvjpkab0nbAKNzlzJsSPTlgGje5502JntzlzLFyTwkfCY03NXxinfdH08KNofH6TfOk6Kka29dj2p7wlnq2MCXa5Cg0NtrjznJsOCl6KjCJQdOYV2afM31+cJ9vkk+7S+YG90bGS9rsw95rzgtudG1gZeps935n2hPe0la7p0+trXZ3p5k0N7wvq7rQeB3hBk8FX6lB0/Bv6S/PjNad49/ymLtsVvjwb5JvOyu4rc527TfTTwkfeShx2fhoW43t63HGdYSPtUR7PAVb3DMdRZvds04PVn8387U5wf0bvQvflvv09PCxbmdCr2nb73Q848x6TeG7m92zf5e44trcJzN24Bnn1AZ7qN803ZF855zg/rnhfbcl3yuZjvCxs4LbkspmVVcwmYTN73em3ZN488X+jzvNhFrb02Pat3kLz/NvqrXdj3qX/jT9qfdnP1Bruw6ZKd2m/bzgpp3O3Frbc3vyf/0q/a5rBz+5OLhrXLTzIe+1GxMXtIe7GuyBU8JHUnbwc7U3vDv7kcnRlke8Sxvt/jXJt25xz37f4F+02j21tieSUzDpQ2Zym919a/IvDjqT3pT/cp9av13znQ8MvrdOXYOqr7edg6ax2e6N5HjW73eax0fbkzYXKjFg6mttr1H0hLd0Rrh2jzM7bQfuS76hMdq/JLjj29Eu6RMv2G848JJirOUfboDntmLFis/qs1wH+oXg9TRkdk+1nr/4w/+47qsfrNk5/dw/+1mUynvZ2lHPkSj/N/oR/zDt2vzMcN3kcNP5/o2nhQ+k7UBSOU7zPFlEMs6w8woCJaxMQoXyOa1kR848XKBEQalB09Bk9/eZlma7v2QtRlZSoGTJwkee2zE0W/mqK76irFRQJqUK37vkK/H7xGsX+3elNVDpZCDzjDNrQrTVU3B4hM4zzqxJ0VOuwvK1FIXydrgLO8L1jsLRT3MZ3QpJfJEKcGw4Ag1g7Fg5udTcz31m4q1XHLjoN60PLF169c2pzlYn8pxs8W+nYzlN9ijXFpI2V2e7Li786Dz/hnrb2WL3OopOzNbgeVQSxJ78anMaqWLdHnmgJ7/G9ksqqefhaylP85HnFFde/iinY1esZ0kJ+ef7N1VblJGdEm0eOcJoarRp9LV7Ck4JH33OUQF4HhHQAE4cd6Cm9ulTe+c/5g3Utd1zUeO6RRPuvLRhw+mOn5r+kz+XlNk3sezTbOUftCr5zJYdF+5I2pyj8OLCD5f619erK2P7yAgAwAuEgAbwgjO+mzzUFqZzDU/OXfhXX9vy0etmff3jTesWyxpTepWA8qtSlFyDYqibXes7ioyis/xf/Enu/0yItkk68g/fAAC8cAhoAM+zuidPy03c0/DYor4Fj6X2t2d2Tat7ataUn781s3diav94N58+59r/lFTl0rmqct0uKylh8+OiHbODh2aHD00ON3kqePJnhb/nYPPLUMFTIlBnixp75ETyE+ppVLIgN5Q1qu/T0zM1WKvuRrV0qadBi9fpYKt6GzX5Gf3uHHW26KK71XZQN12u+j6dvl7pnH71ar3+Zv34T7Vovc59UMZq9xT99C3qatakZ9W+Txf9VvddoMDV0vuVT2n6Du2aqjsv0alP6abLteRhLVmrnkYt2CBJ1iifVODpkTNV36tsRo+eocVr9Yq7dc8y5ZOa9Kxyae1rV0unzn5I6bwiRwM1WrdI22con9Tp6/W7c9TSrfF7deG96q3XXZfo8XlatkYX/0ZbZ6pjhx44V+ffr4PjtHOqdk7XnCeUzqu+VzVZ1fXLC2SNsjXKJ9XULYcPPQHPEwIawPMnkiKnbsvsRR/9ZutD5/lNXT0L1rfef6GbT0uqcvXZ8qvnlvS0UrZ/Srhpn9Pxp7nPLi/8OK1BivkEGP7E9DTKGmWyKiRlpSChA+NUM6Dx+7V9utoOqbdB22aopVOHWjTrKdUMaOM8tR5SS5caevTA+Tr3d/rh27TwMUWurPToGXr9LaodlIl031Jd9gslC3p6pr7ycfU1KHQ0b6P+5ot68jSdslWPna6Je3TNKv31l/Rfb9KvL9H4ffrYVyTp7T9Uc6faDmrbTBmrhK9EQT95q6yjH71N//ruo2/QrvwfdbWor15f+bje8e860K6GXhWSCjwFnmZt1jc/oM9+Wr98tW6+Qo09+uSXNHWXPvEVPTF36PXoBurYpq2nyDqq71UhqXMf0KNLNFCr8ft0YJyShaFanbNR2Rr11WviHrUd1D3LZKwiR5ErE8kL5CckIxPJmqHGXbxWHds1WKP5G/TNDymfHPHWcspOffVj+psvauspktGUnTrvAd31Sl36K911iRY+pscW6uC4oafNiYaerFOeVvt+hY6eOlV7Jqt9n2Zt0Wtv05/9h6btOtEvJ+AlhqtwAMeEq3CMxkqh4xRSM/71vb3zNkz/8dsn3Xql4yef6+shSr50Y9h/rU1p0Fqd69+8KLhrWvTEtPDxLjN+nN1dfi2Cl5vAlSQvlJUCT8Yql1Ymq94GyeqXr9Frblchqe5GOZGePkUtnQo8WaO5T+hHb9PuyQo9zXxaM7fpYJsuvEe3XqanTlV3k7bMUn2/Fq3VNav0+b/V+tP1zu9p6b367nv08zdpoFYTnpVj1dmibEZ+Qm6otoPqaZB1VEjIOpLkhHrLz5RP6fqrJckL1NSlVF6X3ap/v0b5lNI5BZ6ChBauU/sBXfN9feqLSmd1xlrdf752TRvazLYDeuN/665L9Lpb9atLddpm3XqZZBUkh2Y44xENZrRpboVdNGuz9rerp6nyDvR8jbiM+GEmGtqElzirxh791XXqrdcVN0tWp2xVS6cSAVfhAGIgoIFjQkAfdbiKnWy6cf2iml3Tkp0t7Xdd6g3Wtt5/gQkdI2fYrCXXyij5krwRDW1slFL/Qv/uKdETZ/u31tvOydGWl/DB5siokFSyIGMVuiok1dOg+5dq6k6d+Yi2zNI9F+jVv9LP3qLH5ylI6H3f0Y5p+vIntGeKzn5Ql92qf3+7mnq0c7oyWUWOvvJRffAb+pf3aOVHdPMV8gL11Q+tK5XX+ffr3gvkJ48OwERK+Cok5URK5ZStkYzcQLUD6m0cmkF6eWTly9L4vTrQptmb9ckvacmj+lqfOq4hoIFjwikcAI6NlTtYk947Md98KNHXUGg9NG71xWe+7/teLmNNdPirAY/lbOYRt4vfsvbKwqpQ3uzw9wuD1fW282SP5mcnqK5PB9uUzstKoad8So092jpD8zfoqx9TtkZuoP0T9IvX6tW3q7FbOzr00NnqatZAnVoP6j//RJ/7O919kSbs1f52RY5k1NmsndO0frEk3Xylbr6ydL2vukuhpytvVnfTiFCWlE9r9cWl81tHhZQkRa6ytUMTQ2+onkU6v9TtmyBJT87TtT+QJK3QZ8Z0PMBJhIAGMCorRY6TT9Vu77jw8tutUVDfmzrUVmjqqt01vVjDRu7huYdfQ0NlV881R5ZZbw9OCLe+wv/J6cFvmuyBenvoxR/NRzamt17bZqqzRRP3qKVT2Yw2zdby32rvBH3549o9Vbe9TjOfVuCpt0GBp8HaoWPM7ft0wb36r7cMBXHR999VuqJD43TpnUO39048Ov2WK55jhKEnSQfa/6DNBAA8JwIaQAUmn0jvm+AUkqd/8quDU3YHdX2Tb3xjqrNNMjrUJinRVzxKWX7IueRg85G75NpCU7Svze5+xpn99wNXzgjXj/lV53JJeaG8UJJCR7umyho1dcuJVN8nI914uer71Nug7/xvBa4Wrdcf/0Rv/4G2dci6+uDXdebDeu8/K53T+/5JGxbqhjcMLfnJeRVWt3uafjqtwnQAwMmFgAZwmJXX3di8dsng9B2t9y5b/JFvyYkcP2llTYXrMevwbVWfKM/mZ4Rrz/DvmBxtSdmBx71lV+e/amXqbdeJqWffkxccHV9xZGsu1MNLdNpmbZuufEYtndo8S4M1uu212jpT8x/X7ql6zz9r2Rr98U8VeJqySztmSNJvLtHKjxzdvm98SG6ofFr9Dfrcp0/A1gAAXhQIaOBlz8r4ibmf/0xuwrN1m2dP/4+3O37SWEeyCj2V1nPRKCdcWM8WpoePNdiDFxR+Pif83YToaffwl2mfHfzCKT2v4/l0sFV3XqKBGrUf0LMT1NuoH75NV9ykg21q6NXGedo5XQfbtHeCIqfCdjihIldrl0jSFz+l68KhyzUU63nIsIcEicrXcwAAvLQR0MDLj5WkRFez1183+YY3+g092Yl7Zn73vU6QdIY+elbtS7OPPL7sFGerWts9K3zIseH4aNu1ub/25JdX9nHXcyQZacupau2Uscondf/5uuX12jZDjd360t/o92dq70T930+rt+HwYw6vvvipu2Nai3v0tnUU8BE6AEAlBDTwcmLVsGHh/E9/4dDSe6b8/M01u6e5A3Xm6DFVW/Y12sPP0NDI21ZSyg52hOubon2b3HM/33/JRLu1oLSvVEL+8Q5QPY1yIm2ZpfH7ZKVdU9WxXRsWaH+7brpCN1+h0JXnH71qhKRHzlJniwbqjm+dAADEQ0ADL0VWqf3tfkOfTRSssZJkbKKn8bTr/mbibZfX7Jg+fvUlQ/NV+GpADTvwfOSk56NcW2iJnl3i//Lc4Jbx0bb2aEfO1G52zx5vdxgppVxKuWMfaWSUzWjDfD11ih4+U9tO0b0XSFJPg5at0St/rS98SumcCsnDh5aNpNJrtO3ik3kAgBOIgAZeaibcelmUCOZ+4e+f+otvDE7ZVbtzesPG+e2/uSS1vz2zb9LIectPsigp5qEzLoyNmu3eGcG6M4Pb5gb3T42edBQemanO9iwJ7tQxKC7uwXPUX6vfn6UNC/ToEm2dqWxaKjtf4q5X6a5XSVJ/feldAACMIQIaeAmJjKyZ+c/v9xt7nrnyf6b/4NrmtWd6AzXGln9izo6sZFM2UZJc64+Ldl5SWDUreGhmtK7W9sS6WrOV/IR2T9bNl+tQqzYs0LSdeuPP9b5/0sYFx72RAACMMQIaOJlFRtKp3/xwat/4Qxeuab33wmRna3r/hPY1fzT5ljcMm2/4iRnlRpzxXBd1NtiD84I1Z/q/3OXOa7AHX1343jEOx0rPTNam0/TEHP3qUu2crt1T1Fc/9HV3RV//yHFtKQAALxoENHASsko/OzFKFqb87I9TB9rH3/Gaxo0LZ33nQ0fvrtDKJRfTGHH42VhbZw8tCH57rn/zef5NobyM+ox0TnCrGfW6GVYaqFFXi7Z1aOZWfeLLuv5q5VOjXuYOAICTHAENnAyKPRw67Xe+Kj9+X/2mOXM/tyLZ0+T118saOZGx1XK5/AtQzOFoDhvtgSnhk0uC2+uirvP9G+rUU7LaaledCx09fKY2zdbXP6Qn5imbUSard/6b7rpE+fTzve0AALzIENDAi44pJKwXyFhJ9U/Ma/792e2/vmTzR69rWnfG/BWfc/NpJ592jn6Bhz38pSAaeeC55JCzlYys9VSYGm6cEzywJLh9QbAmrcFqJ3YM11+rPRPV3ayPfVXzN2j3VN29TH0NRx85WKtvffB52HYAAF78CGjgxcTKyaUm3/DGfMshN5cemLFt4aeuq3t6Vnrf+Mk3vtFIFb7BZMTn/0zFhnatPy+4d2q44f7k1Z/qf+OM6DFXYcnjSwSu7luq/e36wZ9rx3QdalNXs5IFdTfrnmXP+2YDAHAyIaCBMWXlDtRKCmsH6rbMzuycnuirm/OFT+fH723YuDDMZFOdrUPzSWV9PHy6KWloz+ZnhOsmhk/PCNed71/fbncVlDotfHB6tHF4PQ9f0IFx+u1FOtSiJ+foyTm6b+mIY8ySBmvLHwcAwMsOAQ2MmUnXX12/ac6M7707O+HZva+7peWBpU3rFufb96cOjavdPU0yXrZmZDpX/Gighl9DI2372qJdB5zpb8r9w9X5r5ridTokSSnlXuH/1/AHR0ZPn6LfnaOHz9RTp+r+83Wojc//AQDwHAho4ARJHmzN7J6anbKr0NIpa2Siju+9e9x9y6xs6mB782NnSJJsqrv18COGH1FWeSsfmS1lB+cG980J7js9WD0+2p60uW3u6VOiJx1FJWOw0r52PXiuHl6iO16l9Ys0WCNb9g0mAABgFAQ08IJzcqkolZ946+XzVnzOzafX/cNHvYHa9P7xTuCZyDFlX/t3WPmpGkcnJu1gc/TsWf5t5/vXT462NNoDw+deGN49/JGho3xaH/l/Wr9QjyyRn+QwMwAAx4+ABl4wkZGsInfaD98x0LHNBJ6bz7jZ9OKPfcMJPRM5Vc7HGG7EFegcGzbYA4uDu84vXD8tenx8tKPiYyQVEto2Q7e+Vqdt1vYO/f4s7Ruv21+jyH3eNxIAgJcdAhp4/lhJSnQ3+Q29Xn/dwk9dZ92wfvPspkfPdgvJIx/vc/3ksBMzSr5SW2VXa47S6ju3cNPs8KF5wZop0VOugoorD1zdeYnuXqaN8/XkHB1s1aFxckJZw0kaAAA8nwho4DiZwM08M2Vwyi4Zm9o3Pkznmh85q+Whc8fdfVGUyltp3JqLnNAbeT3m4ceLTZVzNqykuqiz2e5dWvj5cv8/6qKuWvVUu9jcvRfoN8u1bpG6m7V6eekRaQ45AwDwvCOggfisZE3zQ+cs/vC3tr73H8NMruP775I1jRsXeIN1lebWyOs3D79O89GJzdGeUIla2/Xm3Jd2uvMvy/9jq91T0s2Bq65mrb5ID5yne5Yp8LRhgQqp538TAQBANQQ0EJPVhF9cJmtkTaG56/S//poJXXP0SG/5FTNUdpHm4UuzU6ONgRIN0cH3Zz8QyEvbgUl2a3fQ1mgPFh8cGT0+X7dfqjXL9Nvl6q2X5bgyAABjh4AGjlXzQ+dEj/pT//ut7XdeWrdtpuMnJVU6m7nkAHNJNBvJ1kVdl+e/cbZ/W7vdXmN7I7lGkSN7ZBGN9uD952t7h3ZP0nffo13TlE+fiG0EAADPiYAGjtX4X79qzh/9raSRH/uzZWc2q9JHA+Vaf4H/29PDX88J7p8bPjD8Ma5CKx1o041Xau8E/fkP9YnrdMMbNJToAADgxYSABmIZ/cJzdtjZGpJsJuo7NXz4PP+G+cGaSG5H9Lg53NNWCl3tmK4brtJAjd7xA/3lN3XzFWrq0r1LdcelCvntBADgRYn/RQPHoeSzgBr+Y9JmZ4ZrO4L1Zwa3nxHc4Sg8Mp/vac8krb5IW2bp9tdof7t2T1HkKjOo216nB8+RpO5m/fJ1J2gzAADAcSCggeMw/PQMI8nYMKncOYWbzw5uOSO4s9Yevepc4GrzbP38at1zoe67QAO1Fa7KnK3RA+efoKEDAIA/EAENxHX0DI0J4daOcP0p4SMLgjUd4fqUssU7npmkLbN0+6XasFD3XqD+Wr49GwCAlw4CGojFZqK+eeG9rvWX+T87178pIb94R1+dfnaV1i7WjVdp11T5CYoZAICXJgIaOFaL/TveEe09z7+xeIVmKz0+Xw+cp7uXaf0ibZ6tbM1YDxEAALzwCGjgWM0OH3yleXDzXP3oYr3lp/qT/9SvX8lhZgAAXnYIaOBYfeXjai6osUcfXql/fZceX0A9AwDwckRAA8dqsFZ/9xm5gUJP684Y69EAAIAxQkADMQzUjfUIAADAWCu7IC0AAACA6ghoAAAAIAYCGgAAAIiBgAYAAABiIKABAACAGAhoAAAAIAYCGgAAAIiBgAYAAABiIKABAACAGAhoAAAAIAYCGgAAAIiBgAYAAABiIKABAACAGAhoAAAAIAYCGgAAAIiBgAYAAABiIKABAACAGAhoAAAAIAYCGgAAAIiBgAYAAABiIKABAACAGAhoAAAAIAYCGgAAAIiBgAYAAABiIKABAACAGAhoAAAAIAYCGgAAAIiBgAYAAABiIKABAACAGAhoAAAAIAYCGgAAAIiBgAYAAABiIKABAACAGAhoAAAAIAYCGgAAAIiBgAYAAABiIKABAACAGAhoAAAAIAYCGgAAAHOeuy8AAAlASURBVIiBgAYAAABiIKABAACAGAhoAAAAIAYCGgAAAIiBgAYAAABiIKABAACAGAhoAAAAIAYCGgAAAIiBgAYAAABiIKABAACAGAhoAAAAIAYCGgAAAIiBgAYAAABiIKABAACAGAhoAAAAIAYCGgAAAIiBgAYAAABiIKABAACAGAhoAAAAIAYCGgAAAIiBgAYAAABiIKABAACAGAhoAAAAIAYCGgAAAIiBgAYAAABiIKABAACAGAhoAAAAIAYCGgAAAIiBgAYAAABiIKABAACAGAhoAAAAIAYCGgAAAIiBgAYAAABiIKABAACAGAhoAAAAIAYCGgAAAIiBgAYAAABiIKABAACAGAhoAAAAIAYCGgAAAIiBgAYAAABiIKABAACAGAhoAAAAIAYCGgAAAIiBgAYAAABiIKABAACAGAhoAAAAIAYCGgAAAIiBgAYAAABiIKABAACAGAhoAAAAIAYCGgAAAIiBgAYAAABiIKABAACAGAhoAAAAIAYCGgAAAIiBgAYAAABiIKABAACAGAhoAAAAIAYCGgAAAIiBgAYAAABiIKABAACAGAhoAAAAIAYCGgAAAIiBgAYAAABiIKABAACAGAhoAAAAIAYCGgAAAIiBgAYAAABiIKABAACAGAhoAAAAIAYCGgAAAIiBgAYAAABiIKABAACAGAhoAAAAIAYCGgAAAIiBgAYAAABiIKABAACAGAhoAAAAIAYCGgAAAIiBgAYAAABiIKABAACAGAhoAAAAIAYCGgAAAIiBgAYAAABiIKABAACAGAhoAAAAIAYCGgAAAIiBgAYAAABiIKABAACAGAhoAAAAIAYCGgAAAIiBgAYAAABiIKABAACAGAhoAAAAIAYCGgAAAIiBgAYAAABiIKABAACAGAhoAAAAIAYCGgAAAIiBgAYAAABiIKABAACAGAhoAAAAIAYCGgAAAIiBgAYAAABiIKABAACAGAhoAAAAIAYCGgAAAIiBgAYAAABiIKABAACAGAhoAAAAIAYCGgAAAIiBgAYAAABiIKABAACAGAhoAAAAIAYCGgAAAIiBgAYAAABiIKABAACAGAhoAAAAIAYCGgAAAIiBgAYAAABiIKABAACAGAhoAAAAIAYCGgAAAIiBgAYAAABiIKABAACAGAhoAAAAIAYCGgAAAIjBG+sBACeP7dLqsR4DALxAtksdYz0G4CRBQAPHpKOj48LVF+ZX5F25vnxPXqDAlZtSKqusI0eSkSmoYGXrVGdk8spHiqyskXHkFFSoVW2kKFAQKXLk9Ku/VrVGprgKI5NWekADgQJJGWWsbHHJjhwr26/+jDJJJSNFAxpIKZVQole9CSUcOY6c4mJducW196u/Va1W1pefVNKR06e+BjXklT8yhpRSVjZUGCpMKRUqzCvvySsusDilT30ppRw5vvziePLKJ5VMKFG87cuvU12goPiQggqRIl9+Qomkkv3qNzJJJVNKDWowUJBWelCDxb2RVrpPfVbWk5dUMlBgZFy5/ep35SaVtLLF3RgoyCjjycsqa2VduQUVitsVKiz+tzjynHKSkkrmlHPlppW2ssU/vvxa1fryJfny00pnlU0rXZxTUqiw+NhBDSaUSChR3FeRojrVDWig+GxGimpUM6jB4rMTKSreKO7GhBLFV8WR3VWnuk511qjGyhafayOTUsqX78u3ssUd1aQmX36gIFCQUMLIFJ/cPvUVd06NanrVm1a6+BQUt6he9XnlJblyi+PPKtuoxoIKKaVyyhV3b/GlWHwucsoVXxUJJQY0UKOaSFHxiatVbXFvBAqsbEKJ4q5OKJFTrrhRGWWyyhqZ4hNdfO48eT3qKe7t4m9H8fXsyQsVJpTw5PWrP6lkQYU61RV/KSQVF1J8jRVfAMUlFAefUab4mgwVFndCQolQYXFURqb4WCMTKEgqGSoc0ECjGgc0kFa6OP+RJ6i4xuL0SFGosEY1xb1X3EtHtrRJTTnljow8UFB8wRRUKL7eigMo/iVgZAY1WKOafvUXd7Urt/ibWNxpxT3vy69RTXGKJ6/4IowUFed05BR/mxrUECo0Mllliy/LtNKu3G51F28Ut6K4RcXfvuJLNFRYfMqK42lUY496jEy96n35eeWLSxvQQItacsoV92Re+YQSxc3vWN5xAv46BV4CjLV2rMcAAAAAnDQ4BxoAAACIgYAGAAAAYiCgAQAAgBgIaAAAACAGAhoAAACIgYAGAAAAYiCgAQAAgBj4IpXRGGPGeggAAABjgK8KGQUB/VwiGWtkjZEZunH4v8YaScZWnG6qTI8zv4xspfk17IHHPf/Q5pTNr5EDO775j26Oqkz/A+YfsTmqMv145y/dHFWZflzza9h+Gz5/henP3/wVX7fVXs9l80tGUvFvUGsP3xiaYqpMrza/bHFpMeaXZGLOL2tNzPkPDyzG/EObH2d+WZmY8x8dWJz9dhzPC/u58n6Wir8G/Kn2R2M9gD/oD8/v6H84RWF07B8AAAAgBgIaAAAAiIGABgAAAGIgoAEAAIAYCGgAAAAgBgIaAAAAiIGABgAAAGIgoAEAAIAYCGgAAAAgBr6J8Lk4srISX2cJAC87R76/EACGI6CfA18EDwAAXm6MMWM9hBc1TuEAAAAAYiCgAQAAgBgIaAAAACAGwzm+AAAAwLHjCHRl3d3dH/7wh5cvX75q1aqxHgsAAMAJ0t3dvWLFiuXLl69cuXKsx/LiRUBXtnz58mJDr1y5csWKFWM9HAAAgBPhqquuWrt27YoVK1atWkUCVcNl7CpYu3bt9u3b165dW/xxxYoVvIAAAMDLxMqVKzs6OlasWMFB6GoI6ArWrl27ePHi4u2mpqZ169aN7XgAAABOjNWrVxdvrF27tqmpaUzH8uJFQFewffv2sR4CAADAmFm9evXKlSuPxDRKcA50BbzfAgAAL1tr16696qqrVq5ceeQf5FGCgK5g8eLFww9CT58+fezGAgAAcOJs3769eAmOa665ZqzH8uJFQFewePHi7u7u4ocIV61atXz58rEeEQAAwAuuu7v7qquuuuqqq6jn0fFFKpWtWrXq2muvXbRokaTVq1dzUgcAAHjJW7169cUXX3zkx4suuojToCsioKvq7u7evn07Z/8AAABgOAIaAAAAiIFzoAEAAIAYCGgAAAAgBgIaAAAAiOH/A960D1uGSEqsAAAAAElFTkSuQmCC'>"
      ],
      "text/plain": [
       "<IPython.core.display.HTML object>"
      ]
     },
     "metadata": {},
     "output_type": "display_data"
    }
   ],
   "source": [
    "figParticle = vis.Figure( store, figsize=(960,300), name=\"Particles\" )\n",
    "figParticle.append( vis.objects.Points(swarm, materialVariable, pointSize=2, colours='green purple blue red') )\n",
    "figParticle.show()"
   ]
  },
  {
   "cell_type": "code",
   "execution_count": null,
   "metadata": {},
   "outputs": [],
   "source": []
  }
 ],
 "metadata": {
  "kernelspec": {
   "display_name": "Python 3",
   "language": "python",
   "name": "python3"
  },
  "language_info": {
   "codemirror_mode": {
    "name": "ipython",
    "version": 3
   },
   "file_extension": ".py",
   "mimetype": "text/x-python",
   "name": "python",
   "nbconvert_exporter": "python",
   "pygments_lexer": "ipython3",
   "version": "3.7.3"
  }
 },
 "nbformat": 4,
 "nbformat_minor": 1
}
